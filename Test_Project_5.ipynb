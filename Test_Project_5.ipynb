{
 "cells": [
  {
   "cell_type": "markdown",
   "id": "d3800940",
   "metadata": {},
   "source": [
    "# EDA"
   ]
  },
  {
   "cell_type": "code",
   "execution_count": 36,
   "id": "74e9d072",
   "metadata": {},
   "outputs": [
    {
     "data": {
      "text/html": [
       "<div>\n",
       "<style scoped>\n",
       "    .dataframe tbody tr th:only-of-type {\n",
       "        vertical-align: middle;\n",
       "    }\n",
       "\n",
       "    .dataframe tbody tr th {\n",
       "        vertical-align: top;\n",
       "    }\n",
       "\n",
       "    .dataframe thead th {\n",
       "        text-align: right;\n",
       "    }\n",
       "</style>\n",
       "<table border=\"1\" class=\"dataframe\">\n",
       "  <thead>\n",
       "    <tr style=\"text-align: right;\">\n",
       "      <th></th>\n",
       "      <th>Row ID</th>\n",
       "      <th>Order ID</th>\n",
       "      <th>Order Date</th>\n",
       "      <th>Ship Date</th>\n",
       "      <th>Ship Mode</th>\n",
       "      <th>Customer ID</th>\n",
       "      <th>Customer Name</th>\n",
       "      <th>Segment</th>\n",
       "      <th>Country</th>\n",
       "      <th>City</th>\n",
       "      <th>...</th>\n",
       "      <th>Postal Code</th>\n",
       "      <th>Region</th>\n",
       "      <th>Product ID</th>\n",
       "      <th>Category</th>\n",
       "      <th>Sub-Category</th>\n",
       "      <th>Product Name</th>\n",
       "      <th>Sales</th>\n",
       "      <th>Quantity</th>\n",
       "      <th>Discount</th>\n",
       "      <th>Profit</th>\n",
       "    </tr>\n",
       "  </thead>\n",
       "  <tbody>\n",
       "    <tr>\n",
       "      <th>0</th>\n",
       "      <td>1</td>\n",
       "      <td>CA-2016-152156</td>\n",
       "      <td>11/8/2016</td>\n",
       "      <td>11/11/2016</td>\n",
       "      <td>Second Class</td>\n",
       "      <td>CG-12520</td>\n",
       "      <td>Claire Gute</td>\n",
       "      <td>Consumer</td>\n",
       "      <td>United States</td>\n",
       "      <td>Henderson</td>\n",
       "      <td>...</td>\n",
       "      <td>42420</td>\n",
       "      <td>South</td>\n",
       "      <td>FUR-BO-10001798</td>\n",
       "      <td>Furniture</td>\n",
       "      <td>Bookcases</td>\n",
       "      <td>Bush Somerset Collection Bookcase</td>\n",
       "      <td>261.9600</td>\n",
       "      <td>2</td>\n",
       "      <td>0.00</td>\n",
       "      <td>41.9136</td>\n",
       "    </tr>\n",
       "    <tr>\n",
       "      <th>1</th>\n",
       "      <td>2</td>\n",
       "      <td>CA-2016-152156</td>\n",
       "      <td>11/8/2016</td>\n",
       "      <td>11/11/2016</td>\n",
       "      <td>Second Class</td>\n",
       "      <td>CG-12520</td>\n",
       "      <td>Claire Gute</td>\n",
       "      <td>Consumer</td>\n",
       "      <td>United States</td>\n",
       "      <td>Henderson</td>\n",
       "      <td>...</td>\n",
       "      <td>42420</td>\n",
       "      <td>South</td>\n",
       "      <td>FUR-CH-10000454</td>\n",
       "      <td>Furniture</td>\n",
       "      <td>Chairs</td>\n",
       "      <td>Hon Deluxe Fabric Upholstered Stacking Chairs,...</td>\n",
       "      <td>731.9400</td>\n",
       "      <td>3</td>\n",
       "      <td>0.00</td>\n",
       "      <td>219.5820</td>\n",
       "    </tr>\n",
       "    <tr>\n",
       "      <th>2</th>\n",
       "      <td>3</td>\n",
       "      <td>CA-2016-138688</td>\n",
       "      <td>6/12/2016</td>\n",
       "      <td>6/16/2016</td>\n",
       "      <td>Second Class</td>\n",
       "      <td>DV-13045</td>\n",
       "      <td>Darrin Van Huff</td>\n",
       "      <td>Corporate</td>\n",
       "      <td>United States</td>\n",
       "      <td>Los Angeles</td>\n",
       "      <td>...</td>\n",
       "      <td>90036</td>\n",
       "      <td>West</td>\n",
       "      <td>OFF-LA-10000240</td>\n",
       "      <td>Office Supplies</td>\n",
       "      <td>Labels</td>\n",
       "      <td>Self-Adhesive Address Labels for Typewriters b...</td>\n",
       "      <td>14.6200</td>\n",
       "      <td>2</td>\n",
       "      <td>0.00</td>\n",
       "      <td>6.8714</td>\n",
       "    </tr>\n",
       "    <tr>\n",
       "      <th>3</th>\n",
       "      <td>4</td>\n",
       "      <td>US-2015-108966</td>\n",
       "      <td>10/11/2015</td>\n",
       "      <td>10/18/2015</td>\n",
       "      <td>Standard Class</td>\n",
       "      <td>SO-20335</td>\n",
       "      <td>Sean O'Donnell</td>\n",
       "      <td>Consumer</td>\n",
       "      <td>United States</td>\n",
       "      <td>Fort Lauderdale</td>\n",
       "      <td>...</td>\n",
       "      <td>33311</td>\n",
       "      <td>South</td>\n",
       "      <td>FUR-TA-10000577</td>\n",
       "      <td>Furniture</td>\n",
       "      <td>Tables</td>\n",
       "      <td>Bretford CR4500 Series Slim Rectangular Table</td>\n",
       "      <td>957.5775</td>\n",
       "      <td>5</td>\n",
       "      <td>0.45</td>\n",
       "      <td>-383.0310</td>\n",
       "    </tr>\n",
       "    <tr>\n",
       "      <th>4</th>\n",
       "      <td>5</td>\n",
       "      <td>US-2015-108966</td>\n",
       "      <td>10/11/2015</td>\n",
       "      <td>10/18/2015</td>\n",
       "      <td>Standard Class</td>\n",
       "      <td>SO-20335</td>\n",
       "      <td>Sean O'Donnell</td>\n",
       "      <td>Consumer</td>\n",
       "      <td>United States</td>\n",
       "      <td>Fort Lauderdale</td>\n",
       "      <td>...</td>\n",
       "      <td>33311</td>\n",
       "      <td>South</td>\n",
       "      <td>OFF-ST-10000760</td>\n",
       "      <td>Office Supplies</td>\n",
       "      <td>Storage</td>\n",
       "      <td>Eldon Fold 'N Roll Cart System</td>\n",
       "      <td>22.3680</td>\n",
       "      <td>2</td>\n",
       "      <td>0.20</td>\n",
       "      <td>2.5164</td>\n",
       "    </tr>\n",
       "  </tbody>\n",
       "</table>\n",
       "<p>5 rows × 21 columns</p>\n",
       "</div>"
      ],
      "text/plain": [
       "   Row ID        Order ID  Order Date   Ship Date       Ship Mode Customer ID  \\\n",
       "0       1  CA-2016-152156   11/8/2016  11/11/2016    Second Class    CG-12520   \n",
       "1       2  CA-2016-152156   11/8/2016  11/11/2016    Second Class    CG-12520   \n",
       "2       3  CA-2016-138688   6/12/2016   6/16/2016    Second Class    DV-13045   \n",
       "3       4  US-2015-108966  10/11/2015  10/18/2015  Standard Class    SO-20335   \n",
       "4       5  US-2015-108966  10/11/2015  10/18/2015  Standard Class    SO-20335   \n",
       "\n",
       "     Customer Name    Segment        Country             City  ...  \\\n",
       "0      Claire Gute   Consumer  United States        Henderson  ...   \n",
       "1      Claire Gute   Consumer  United States        Henderson  ...   \n",
       "2  Darrin Van Huff  Corporate  United States      Los Angeles  ...   \n",
       "3   Sean O'Donnell   Consumer  United States  Fort Lauderdale  ...   \n",
       "4   Sean O'Donnell   Consumer  United States  Fort Lauderdale  ...   \n",
       "\n",
       "  Postal Code  Region       Product ID         Category Sub-Category  \\\n",
       "0       42420   South  FUR-BO-10001798        Furniture    Bookcases   \n",
       "1       42420   South  FUR-CH-10000454        Furniture       Chairs   \n",
       "2       90036    West  OFF-LA-10000240  Office Supplies       Labels   \n",
       "3       33311   South  FUR-TA-10000577        Furniture       Tables   \n",
       "4       33311   South  OFF-ST-10000760  Office Supplies      Storage   \n",
       "\n",
       "                                        Product Name     Sales  Quantity  \\\n",
       "0                  Bush Somerset Collection Bookcase  261.9600         2   \n",
       "1  Hon Deluxe Fabric Upholstered Stacking Chairs,...  731.9400         3   \n",
       "2  Self-Adhesive Address Labels for Typewriters b...   14.6200         2   \n",
       "3      Bretford CR4500 Series Slim Rectangular Table  957.5775         5   \n",
       "4                     Eldon Fold 'N Roll Cart System   22.3680         2   \n",
       "\n",
       "   Discount    Profit  \n",
       "0      0.00   41.9136  \n",
       "1      0.00  219.5820  \n",
       "2      0.00    6.8714  \n",
       "3      0.45 -383.0310  \n",
       "4      0.20    2.5164  \n",
       "\n",
       "[5 rows x 21 columns]"
      ]
     },
     "execution_count": 36,
     "metadata": {},
     "output_type": "execute_result"
    }
   ],
   "source": [
    "import pandas as pd\n",
    "import sqlite3\n",
    "\n",
    "df = pd.read_csv(\"Sample_Superstore.csv\", encoding=\"latin-1\")\n",
    "\n",
    "# df.info()\n",
    "\n",
    "df.head()\n",
    "\n",
    "# df.shape\n",
    "\n",
    "# df.columns"
   ]
  },
  {
   "cell_type": "code",
   "execution_count": 37,
   "id": "c6ad4a96",
   "metadata": {},
   "outputs": [
    {
     "name": "stdout",
     "output_type": "stream",
     "text": [
      "['Row ID', 'Order ID', 'Order Date', 'Ship Date', 'Ship Mode', 'Customer ID', 'Customer Name', 'Segment', 'Country', 'City', 'State', 'Postal Code', 'Region', 'Product ID', 'Category', 'Sub-Category', 'Product Name', 'Sales', 'Quantity', 'Discount', 'Profit']\n"
     ]
    }
   ],
   "source": [
    "print(df.columns.tolist())\n"
   ]
  },
  {
   "cell_type": "code",
   "execution_count": null,
   "id": "89fe6289",
   "metadata": {},
   "outputs": [
    {
     "data": {
      "text/plain": [
       "9994"
      ]
     },
     "execution_count": 172,
     "metadata": {},
     "output_type": "execute_result"
    }
   ],
   "source": [
    "df = pd.read_csv(\"Sample-Superstore-clean.csv\", encoding=\"latin-1\")\n",
    "\n",
    "# Conectar a SQLite (esto crea el archivo superstore.db si no existe)\n",
    "conn = sqlite3.connect(\"superstore.db\")\n",
    "\n",
    "# Guardar los datos en una tabla llamada \"Superstore\"\n",
    "df.to_sql(\"Superstore\", conn, if_exists=\"replace\", index=False)\n",
    "\n"
   ]
  },
  {
   "cell_type": "markdown",
   "id": "2a2bf014",
   "metadata": {},
   "source": [
    "# Create TABLES + CSV"
   ]
  },
  {
   "cell_type": "markdown",
   "id": "8b426e61",
   "metadata": {},
   "source": [
    "## Customer"
   ]
  },
  {
   "cell_type": "code",
   "execution_count": 38,
   "id": "face4be8",
   "metadata": {},
   "outputs": [],
   "source": [
    "# Create Table\n",
    "\n",
    "import sqlite3\n",
    "\n",
    "conn = sqlite3.connect(\"shop.db\")\n",
    "cur = conn.cursor()\n",
    "\n",
    "customer_table = \"\"\"\n",
    "   CREATE TABLE IF NOT EXISTS customer (\n",
    "      id           INTEGER PRIMARY KEY AUTOINCREMENT,\n",
    "      customer_id  TEXT NOT NULL,\n",
    "      customername TEXT NOT NULL,\n",
    "      segment      TEXT\n",
    "   )\n",
    "\"\"\"\n",
    "cur.execute(customer_table)\n",
    "\n",
    "cur.close()\n",
    "conn.close()"
   ]
  },
  {
   "cell_type": "code",
   "execution_count": 39,
   "id": "62519284",
   "metadata": {},
   "outputs": [
    {
     "name": "stdout",
     "output_type": "stream",
     "text": [
      "Wrote customer.csv\n"
     ]
    }
   ],
   "source": [
    "# Create CSV\n",
    "\n",
    "df = pd.read_csv(\"Sample_Superstore.csv\", encoding=\"latin-1\")\n",
    "\n",
    "customer_table = df[[\"Customer ID\", \"Customer Name\", \"Segment\"]].copy()\n",
    "customer_table.rename(columns={\"Customer ID\": \"customer_id\", \"Customer Name\": \"customername\", \"Segment\": \"segment\"}, inplace=True)\n",
    "customer_table.drop_duplicates(inplace=True)\n",
    "\n",
    "customer_table.to_csv(\"customer.csv\", index=False)\n",
    "print(\"Wrote customer.csv\")\n"
   ]
  },
  {
   "cell_type": "code",
   "execution_count": 40,
   "id": "aa26f558",
   "metadata": {},
   "outputs": [],
   "source": [
    "# Populate\n",
    "\n",
    "conn = sqlite3.connect(\"shop.db\")\n",
    "\n",
    "customer_table.to_sql(\n",
    "   \"customer\", # the name of the table\n",
    "   con=conn, # the connection variable\n",
    "   index=False, # whether to include the index column\n",
    "   if_exists=\"append\" # define behavior if table already exists\n",
    ")\n",
    "conn.close()"
   ]
  },
  {
   "cell_type": "code",
   "execution_count": 41,
   "id": "7eb2d34d",
   "metadata": {},
   "outputs": [
    {
     "data": {
      "text/plain": [
       "<bound method DataFrame.info of     customer_id       customername      segment\n",
       "0      CG-12520        Claire Gute     Consumer\n",
       "1      DV-13045    Darrin Van Huff    Corporate\n",
       "2      SO-20335     Sean O'Donnell     Consumer\n",
       "3      BH-11710    Brosina Hoffman     Consumer\n",
       "4      AA-10480       Andrew Allen     Consumer\n",
       "..          ...                ...          ...\n",
       "788    CJ-11875       Carl Jackson    Corporate\n",
       "789    RS-19870         Roy Skaria  Home Office\n",
       "790    SC-20845         Sung Chung     Consumer\n",
       "791    RE-19405    Ricardo Emerson     Consumer\n",
       "792    SM-20905  Susan MacKendrick     Consumer\n",
       "\n",
       "[793 rows x 3 columns]>"
      ]
     },
     "execution_count": 41,
     "metadata": {},
     "output_type": "execute_result"
    }
   ],
   "source": [
    "df_customer = pd.read_csv(\"customer.csv\", encoding=\"latin-1\")\n",
    "\n",
    "df_customer.info"
   ]
  },
  {
   "cell_type": "markdown",
   "id": "75ee4684",
   "metadata": {},
   "source": [
    "## Orders"
   ]
  },
  {
   "cell_type": "code",
   "execution_count": 42,
   "id": "fb333a51",
   "metadata": {},
   "outputs": [],
   "source": [
    "conn = sqlite3.connect(\"shop.db\")\n",
    "cur = conn.cursor()\n",
    "\n",
    "cur.execute(\"PRAGMA foreign_keys = ON;\")\n",
    "\n",
    "orders_table = \"\"\"\n",
    "CREATE TABLE IF NOT EXISTS orders (\n",
    "  order_id     TEXT    PRIMARY KEY,\n",
    "  address_id   INTEGER NOT NULL,\n",
    "  customer_id  TEXT    NOT NULL,\n",
    "  ship_mode    TEXT,\n",
    "  ship_date    TEXT,\n",
    "  FOREIGN KEY (address_id)  REFERENCES address(address_id),\n",
    "  FOREIGN KEY (customer_id) REFERENCES customer(customer_id)\n",
    ");\n",
    "\"\"\"\n",
    "\n",
    "cur.execute(orders_table) \n",
    "conn.commit()\n",
    "cur.close()\n",
    "conn.close()\n"
   ]
  },
  {
   "cell_type": "code",
   "execution_count": 43,
   "id": "929e14ef",
   "metadata": {},
   "outputs": [],
   "source": [
    "df = pd.read_csv(\"Sample_Superstore.csv\", encoding=\"latin-1\")\n",
    "\n",
    "df[\"address_id\"] = range(1, len(df) + 1)\n",
    "\n",
    "orders_table = df[[\"Order ID\", \"address_id\", \"Customer ID\", \"Ship Mode\", \"Ship Date\"]].copy()\n",
    "orders_table.rename(columns={\"Order ID\": \"order_id\", \"Customer ID\": \"customer_id\", \"Ship Mode\": \"shipmode\", \"Ship Date\": \"shipdate\"}, inplace=True)\n",
    "orders_table.drop_duplicates(inplace=True)\n",
    "\n",
    "orders_table.to_csv(\"orders.csv\", index=False)"
   ]
  },
  {
   "cell_type": "code",
   "execution_count": 44,
   "id": "7c5d584b",
   "metadata": {},
   "outputs": [],
   "source": [
    "# Populate\n",
    "\n",
    "conn = sqlite3.connect(\"shop.db\")\n",
    "\n",
    "orders_table.to_sql(\n",
    "   \"user\", # the name of the table\n",
    "   con=conn, # the connection variable\n",
    "   index=False, # whether to include the index column\n",
    "   if_exists=\"append\" # define behavior if table already exists\n",
    ")\n",
    "conn.close()"
   ]
  },
  {
   "cell_type": "markdown",
   "id": "a7635576",
   "metadata": {},
   "source": [
    "## Address"
   ]
  },
  {
   "cell_type": "code",
   "execution_count": 45,
   "id": "011c43ee",
   "metadata": {},
   "outputs": [],
   "source": [
    "conn = sqlite3.connect(\"shop.db\")\n",
    "cur = conn.cursor()\n",
    "\n",
    "cur.execute(\"PRAGMA foreign_keys = ON;\")\n",
    "\n",
    "address_table = \"\"\"\n",
    "CREATE TABLE IF NOT EXISTS address (\n",
    "  address_id  INTEGER PRIMARY KEY,\n",
    "  customer_id TEXT NOT NULL,\n",
    "  country     TEXT,\n",
    "  city        TEXT,\n",
    "  postalcode  TEXT,      \n",
    "  region      TEXT,\n",
    "  state       TEXT,\n",
    "  FOREIGN KEY (customer_id) REFERENCES customer(customer_id)\n",
    ");\n",
    "\"\"\"\n",
    "\n",
    "cur.execute(address_table)\n",
    "conn.commit()\n",
    "cur.close()\n",
    "conn.close()\n"
   ]
  },
  {
   "cell_type": "code",
   "execution_count": 46,
   "id": "f67f9704",
   "metadata": {},
   "outputs": [],
   "source": [
    "df = pd.read_csv(\"Sample_Superstore.csv\", encoding=\"latin-1\")\n",
    "\n",
    "df[\"address_id\"] = range(1, len(df) + 1)\n",
    "\n",
    "address_table = df[[\"address_id\", \"Customer ID\", \"Country\", \"City\", \"Postal Code\", \"Region\", \"State\"]].copy()\n",
    "address_table.rename(columns={\"Customer ID\": \"customer_id\", \"Country\": \"country\", \"City\": \"city\", \"Postal Code\": \"postalcode\", \"Region\": \"region\", \"State\": \"state\"}, inplace=True)\n",
    "address_table = address_table.drop_duplicates(\n",
    "    subset=[\"country\", \"city\", \"postalcode\", \"region\", \"state\"]\n",
    ")\n",
    "\n",
    "address_table.to_csv(\"address.csv\", index=False)"
   ]
  },
  {
   "cell_type": "code",
   "execution_count": 35,
   "id": "1064d28f",
   "metadata": {},
   "outputs": [],
   "source": [
    "conn = sqlite3.connect(\"shop.db\")\n",
    "\n",
    "address_table.to_sql(\n",
    "   \"address\", # the name of the table\n",
    "   con=conn, # the connection variable\n",
    "   index=False, # whether to include the index column\n",
    "   if_exists=\"append\" # define behavior if table already exists\n",
    ")\n",
    "conn.close()"
   ]
  },
  {
   "cell_type": "markdown",
   "id": "34fce4b4",
   "metadata": {},
   "source": [
    "## Product"
   ]
  },
  {
   "cell_type": "code",
   "execution_count": 48,
   "id": "3ba5bc25",
   "metadata": {},
   "outputs": [],
   "source": [
    "conn = sqlite3.connect(\"shop.db\")\n",
    "cur = conn.cursor()\n",
    "\n",
    "cur.execute(\"PRAGMA foreign_keys = ON;\")\n",
    "\n",
    "product_table = \"\"\"\n",
    "CREATE TABLE IF NOT EXISTS product (\n",
    "  product_id   TEXT PRIMARY KEY, \n",
    "  productname  TEXT,\n",
    "  category     TEXT,\n",
    "  subcategory  TEXT\n",
    ");\n",
    "\"\"\"\n",
    "cur.execute(product_table)\n",
    "\n",
    "conn.commit()\n",
    "cur.close()\n",
    "conn.close()\n"
   ]
  },
  {
   "cell_type": "code",
   "execution_count": 49,
   "id": "3bc7e8de",
   "metadata": {},
   "outputs": [],
   "source": [
    "df = pd.read_csv(\"Sample_Superstore.csv\", encoding=\"latin-1\")\n",
    "\n",
    "product_table = df[[\"Product ID\", \"Product Name\", \"Category\", \"Sub-Category\"]].copy()\n",
    "product_table.rename(columns={\"Product ID\": \"product_id\", \"Product Name\": \"productname\", \"Category\": \"category\", \"Sub-Category\": \"subcategory\"}, inplace=True)\n",
    "product_table = product_table.drop_duplicates(subset=[\"product_id\"], keep=\"first\")\n",
    "\n",
    "product_table.to_csv(\"product.csv\", index=False)"
   ]
  },
  {
   "cell_type": "code",
   "execution_count": 50,
   "id": "44ed2419",
   "metadata": {},
   "outputs": [],
   "source": [
    "conn = sqlite3.connect(\"shop.db\")\n",
    "\n",
    "product_table.to_sql(\n",
    "   \"product\", # the name of the table\n",
    "   con=conn, # the connection variable\n",
    "   index=False, # whether to include the index column\n",
    "   if_exists=\"append\" # define behavior if table already exists\n",
    ")\n",
    "conn.close()"
   ]
  },
  {
   "cell_type": "markdown",
   "id": "14d0ce5f",
   "metadata": {},
   "source": [
    "## Sales"
   ]
  },
  {
   "cell_type": "code",
   "execution_count": 62,
   "id": "636ff8ed",
   "metadata": {},
   "outputs": [],
   "source": [
    "import sqlite3 \n",
    "\n",
    "conn = sqlite3.connect(\"shop.db\")\n",
    "cur = conn.cursor()\n",
    "\n",
    "sales_table = \"\"\"\n",
    "CREATE TABLE IF NOT EXISTS sales (\n",
    "  sale_id      INTEGER PRIMARY KEY,\n",
    "  order_id     TEXT    NOT NULL,\n",
    "  product_id   TEXT    NOT NULL,\n",
    "  sales_amount REAL,\n",
    "  quantity     INTEGER,\n",
    "  discount     REAL,\n",
    "  profit       REAL,\n",
    "  FOREIGN KEY (order_id)  REFERENCES orders(order_id),\n",
    "  FOREIGN KEY (product_id) REFERENCES product(product_id)\n",
    ");\n",
    "\"\"\"\n",
    "cur.execute(sales_table)\n",
    "conn.commit() \n",
    "cur.close()\n",
    "conn.close()\n",
    "\n"
   ]
  },
  {
   "cell_type": "code",
   "execution_count": 63,
   "id": "67e6df19",
   "metadata": {},
   "outputs": [],
   "source": [
    "df = pd.read_csv(\"Sample_Superstore.csv\", encoding=\"latin-1\")\n",
    "\n",
    "sales_table = df[[\"Order ID\", \"Product ID\", \"Sales\", \"Quantity\", \"Discount\", \"Profit\"]].copy()\n",
    "sales_table.rename(columns={\"Order ID\": \"order_id\", \"Product ID\": \"product_id\", \"Sales\": \"sales_amount\", \"Quantity\": \"quantity\", \"Discount\": \"discount\", \"Profit\": \"profit\"}, inplace=True)\n",
    "sales_table.drop_duplicates(inplace=True)\n",
    "\n",
    "sales_table.to_csv(\"sales.csv\", index=False)"
   ]
  },
  {
   "cell_type": "code",
   "execution_count": 64,
   "id": "0cbdd3d8",
   "metadata": {},
   "outputs": [],
   "source": [
    "conn = sqlite3.connect(\"shop.db\")\n",
    "\n",
    "sales_table.to_sql(\n",
    "   \"sales\", # the name of the table\n",
    "   con=conn, # the connection variable\n",
    "   index=False, # whether to include the index column\n",
    "   if_exists=\"append\" # define behavior if table already exists\n",
    ")\n",
    "conn.close()"
   ]
  },
  {
   "cell_type": "markdown",
   "id": "c2bac8f1",
   "metadata": {},
   "source": [
    "# 1 - TOP CATEGORIES "
   ]
  },
  {
   "cell_type": "code",
   "execution_count": 65,
   "id": "5c290122",
   "metadata": {},
   "outputs": [
    {
     "name": "stdout",
     "output_type": "stream",
     "text": [
      "     category  total_sales\n",
      "0  Technology   836154.033\n"
     ]
    }
   ],
   "source": [
    "conn = sqlite3.connect(\"shop.db\")\n",
    "cur  = conn.cursor()\n",
    "\n",
    "sql_all_categories = \"\"\"\n",
    "SELECT \n",
    "    p.category,\n",
    "    SUM(s.sales_amount) AS total_sales\n",
    "FROM sales s\n",
    "JOIN product p ON s.product_id = p.product_id\n",
    "GROUP BY p.category\n",
    "ORDER BY total_sales DESC\n",
    "LIMIT 1;\n",
    "\"\"\"\n",
    "\n",
    "cur.execute(sql_all_categories)\n",
    "rows = cur.fetchall()\n",
    "\n",
    "# Only two columns here:\n",
    "all_categories_df = pd.DataFrame(rows, columns=[\"category\", \"total_sales\"])\n",
    "print(all_categories_df)\n",
    "\n",
    "cur.close()\n",
    "conn.close()"
   ]
  },
  {
   "cell_type": "code",
   "execution_count": 212,
   "id": "c393a30d",
   "metadata": {},
   "outputs": [
    {
     "name": "stdout",
     "output_type": "stream",
     "text": [
      "Categories with losses:\n",
      "Empty DataFrame\n",
      "Columns: [category, total_profit]\n",
      "Index: []\n"
     ]
    }
   ],
   "source": [
    "conn = sqlite3.connect(\"shop.db\")\n",
    "cur  = conn.cursor()\n",
    "\n",
    "sql_loss_categories = \"\"\"\n",
    "SELECT p.category,\n",
    "       SUM(s.profit) AS total_profit\n",
    "FROM sales s\n",
    "JOIN product p\n",
    "  ON p.order_id = s.order_id AND p.product_id = s.product_id\n",
    "GROUP BY p.category\n",
    "HAVING total_profit < 0;\n",
    "\"\"\"\n",
    "\n",
    "cur.execute(sql_loss_categories)\n",
    "rows = cur.fetchall()\n",
    "loss_categories_df = pd.DataFrame(rows, columns=[\"category\", \"total_profit\"])\n",
    "print(\"Categories with losses:\")\n",
    "print(loss_categories_df)\n",
    "\n",
    "cur.close()\n",
    "conn.close()\n"
   ]
  },
  {
   "cell_type": "code",
   "execution_count": 211,
   "id": "ee9adcf0",
   "metadata": {},
   "outputs": [
    {
     "name": "stdout",
     "output_type": "stream",
     "text": [
      "Subcategories with losses:\n",
      "          category subcategory  total_profit\n",
      "0        Furniture   Bookcases    -3472.5560\n",
      "1        Furniture      Tables   -17725.4811\n",
      "2  Office Supplies    Supplies    -1189.0995\n"
     ]
    }
   ],
   "source": [
    "conn = sqlite3.connect(\"shop.db\")\n",
    "cur  = conn.cursor()\n",
    "\n",
    "sql_loss_subcategories = \"\"\"\n",
    "SELECT p.category,\n",
    "       p.subcategory,\n",
    "       SUM(s.profit) AS total_profit\n",
    "FROM sales s\n",
    "JOIN product p\n",
    "  ON p.order_id = s.order_id AND p.product_id = s.product_id\n",
    "GROUP BY p.category, p.subcategory\n",
    "HAVING total_profit < 0;\n",
    "\"\"\"\n",
    "\n",
    "cur.execute(sql_loss_subcategories)\n",
    "rows = cur.fetchall()\n",
    "loss_subcategories_df = pd.DataFrame(rows, columns=[\"category\", \"subcategory\", \"total_profit\"])\n",
    "print(\"Subcategories with losses:\")\n",
    "print(loss_subcategories_df)\n",
    "\n",
    "cur.close()\n",
    "conn.close()\n"
   ]
  },
  {
   "cell_type": "markdown",
   "id": "a0c87610",
   "metadata": {},
   "source": [
    "What are 5 states generating the maximum and minimum sales revenue?"
   ]
  },
  {
   "cell_type": "code",
   "execution_count": 238,
   "id": "b7accf7f",
   "metadata": {},
   "outputs": [
    {
     "name": "stdout",
     "output_type": "stream",
     "text": [
      "Column 'state' added.\n",
      "Columns: ['order_id', 'customer_id', 'country', 'city', 'postalcode', 'region', 'state']\n"
     ]
    }
   ],
   "source": [
    "conn = sqlite3.connect(\"shop.db\")\n",
    "cur  = conn.cursor()\n",
    "\n",
    "# 1) Add the column\n",
    "try:\n",
    "    cur.execute(\"ALTER TABLE address ADD COLUMN state TEXT;\")\n",
    "    conn.commit()\n",
    "    print(\"Column 'state' added.\")\n",
    "except sqlite3.OperationalError as e:\n",
    "    # If you already added it before, SQLite says \"duplicate column name\"\n",
    "    if \"duplicate column name\" in str(e).lower():\n",
    "        print(\"Column 'state' already exists — skipping.\")\n",
    "    else:\n",
    "        raise\n",
    "\n",
    "# 2) Verify it's there\n",
    "cur.execute(\"PRAGMA table_info(address);\")\n",
    "cols = [row[1] for row in cur.fetchall()]\n",
    "print(\"Columns:\", cols)\n",
    "\n",
    "cur.close()\n",
    "conn.close()\n"
   ]
  },
  {
   "cell_type": "code",
   "execution_count": 239,
   "id": "55089196",
   "metadata": {},
   "outputs": [],
   "source": [
    "DB_PATH  = \"shop.db\"\n",
    "CSV_PATH = \"Sample-Superstore-clean.csv\"\n",
    "\n",
    "# 1) Read your CSV (and normalize column names a bit)\n",
    "try:\n",
    "    df = pd.read_csv(CSV_PATH)\n",
    "except UnicodeDecodeError:\n",
    "    df = pd.read_csv(CSV_PATH, encoding=\"latin-1\")\n",
    "\n",
    "# make headers easier to match (e.g., \"Customer ID\" -> \"customer_id\")\n",
    "df.columns = [c.strip().lower().replace(\" \", \"_\").replace(\"-\", \"_\") for c in df.columns]\n",
    "\n",
    "# make sure these columns exist in your CSV\n",
    "needed = [\"order_id\", \"customer_id\", \"state\"]\n",
    "missing = [c for c in needed if c not in df.columns]\n",
    "if missing:\n",
    "    raise ValueError(f\"CSV is missing columns: {missing}\")\n",
    "\n",
    "# keep only what we need and clean a bit\n",
    "csv_state = (\n",
    "    df[[\"order_id\", \"customer_id\", \"state\"]]\n",
    "      .dropna(subset=[\"state\"])\n",
    "      .copy()\n",
    ")\n",
    "# keep IDs as text to match DB\n",
    "csv_state[\"order_id\"] = csv_state[\"order_id\"].astype(str)\n",
    "csv_state[\"customer_id\"] = csv_state[\"customer_id\"].astype(str)\n",
    "\n",
    "# 2) Save this small mapping into SQLite as a temp helper table\n",
    "conn = sqlite3.connect(DB_PATH)\n",
    "csv_state.to_sql(\"csv_state\", conn, if_exists=\"replace\", index=False)\n",
    "\n",
    "# 3) Update address.state from csv_state using (order_id, customer_id) as keys\n",
    "cur = conn.cursor()\n",
    "cur.executescript(\"\"\"\n",
    "PRAGMA foreign_keys = ON;\n",
    "\n",
    "UPDATE address\n",
    "SET state = (\n",
    "    SELECT cs.state\n",
    "    FROM csv_state AS cs\n",
    "    WHERE cs.order_id = address.order_id\n",
    "      AND cs.customer_id = address.customer_id\n",
    ")\n",
    "WHERE EXISTS (\n",
    "    SELECT 1\n",
    "    FROM csv_state AS cs\n",
    "    WHERE cs.order_id = address.order_id\n",
    "      AND cs.customer_id = address.customer_id\n",
    ");\n",
    "\"\"\")\n",
    "\n",
    "cur.close()\n",
    "conn.close()\n"
   ]
  },
  {
   "cell_type": "code",
   "execution_count": 241,
   "id": "f61aad05",
   "metadata": {},
   "outputs": [
    {
     "name": "stdout",
     "output_type": "stream",
     "text": [
      "CSV created: address_with_state.csv\n",
      "Columns: ['order_id', 'customer_id', 'country', 'city', 'postalcode', 'region', 'state']\n",
      "         order_id customer_id        country             city postalcode  \\\n",
      "0  CA-2016-152156    CG-12520  United States        Henderson      42420   \n",
      "1  CA-2016-138688    DV-13045  United States      Los Angeles      90036   \n",
      "2  US-2015-108966    SO-20335  United States  Fort Lauderdale      33311   \n",
      "3  CA-2014-115812    BH-11710  United States      Los Angeles      90032   \n",
      "4  CA-2017-114412    AA-10480  United States          Concord      28027   \n",
      "\n",
      "  region           state  \n",
      "0  South        Kentucky  \n",
      "1   West      California  \n",
      "2  South         Florida  \n",
      "3   West      California  \n",
      "4  South  North Carolina  \n"
     ]
    }
   ],
   "source": [
    "DB_PATH = \"shop.db\"\n",
    "CSV_OUT = \"address_with_state.csv\"\n",
    "\n",
    "# Connect and read the address table\n",
    "conn = sqlite3.connect(DB_PATH)\n",
    "df_address = pd.read_sql_query(\"SELECT * FROM address;\", conn)\n",
    "conn.close()\n",
    "\n",
    "# Save to CSV\n",
    "df_address.to_csv(CSV_OUT, index=False)\n",
    "\n",
    "print(f\"CSV created: {CSV_OUT}\")\n",
    "print(\"Columns:\", df_address.columns.tolist())\n",
    "print(df_address.head())\n"
   ]
  },
  {
   "cell_type": "code",
   "execution_count": 242,
   "id": "9f241504",
   "metadata": {},
   "outputs": [
    {
     "name": "stderr",
     "output_type": "stream",
     "text": [
      "/var/folders/4z/5y7_7y714mg469xjsc3rqc5r0000gn/T/ipykernel_33864/790751204.py:1: UserWarning: Pandas doesn't allow columns to be created via a new attribute name - see https://pandas.pydata.org/pandas-docs/stable/indexing.html#attribute-access\n",
      "  df.address_state = pd.read_csv(\"address_with_state.csv\", encoding=\"latin-1\")\n"
     ]
    },
    {
     "data": {
      "text/html": [
       "<div>\n",
       "<style scoped>\n",
       "    .dataframe tbody tr th:only-of-type {\n",
       "        vertical-align: middle;\n",
       "    }\n",
       "\n",
       "    .dataframe tbody tr th {\n",
       "        vertical-align: top;\n",
       "    }\n",
       "\n",
       "    .dataframe thead th {\n",
       "        text-align: right;\n",
       "    }\n",
       "</style>\n",
       "<table border=\"1\" class=\"dataframe\">\n",
       "  <thead>\n",
       "    <tr style=\"text-align: right;\">\n",
       "      <th></th>\n",
       "      <th>order_id</th>\n",
       "      <th>customer_id</th>\n",
       "      <th>country</th>\n",
       "      <th>city</th>\n",
       "      <th>postalcode</th>\n",
       "      <th>region</th>\n",
       "      <th>state</th>\n",
       "    </tr>\n",
       "  </thead>\n",
       "  <tbody>\n",
       "    <tr>\n",
       "      <th>0</th>\n",
       "      <td>CA-2016-152156</td>\n",
       "      <td>CG-12520</td>\n",
       "      <td>United States</td>\n",
       "      <td>Henderson</td>\n",
       "      <td>42420</td>\n",
       "      <td>South</td>\n",
       "      <td>Kentucky</td>\n",
       "    </tr>\n",
       "    <tr>\n",
       "      <th>1</th>\n",
       "      <td>CA-2016-138688</td>\n",
       "      <td>DV-13045</td>\n",
       "      <td>United States</td>\n",
       "      <td>Los Angeles</td>\n",
       "      <td>90036</td>\n",
       "      <td>West</td>\n",
       "      <td>California</td>\n",
       "    </tr>\n",
       "    <tr>\n",
       "      <th>2</th>\n",
       "      <td>US-2015-108966</td>\n",
       "      <td>SO-20335</td>\n",
       "      <td>United States</td>\n",
       "      <td>Fort Lauderdale</td>\n",
       "      <td>33311</td>\n",
       "      <td>South</td>\n",
       "      <td>Florida</td>\n",
       "    </tr>\n",
       "    <tr>\n",
       "      <th>3</th>\n",
       "      <td>CA-2014-115812</td>\n",
       "      <td>BH-11710</td>\n",
       "      <td>United States</td>\n",
       "      <td>Los Angeles</td>\n",
       "      <td>90032</td>\n",
       "      <td>West</td>\n",
       "      <td>California</td>\n",
       "    </tr>\n",
       "    <tr>\n",
       "      <th>4</th>\n",
       "      <td>CA-2017-114412</td>\n",
       "      <td>AA-10480</td>\n",
       "      <td>United States</td>\n",
       "      <td>Concord</td>\n",
       "      <td>28027</td>\n",
       "      <td>South</td>\n",
       "      <td>North Carolina</td>\n",
       "    </tr>\n",
       "  </tbody>\n",
       "</table>\n",
       "</div>"
      ],
      "text/plain": [
       "         order_id customer_id        country             city  postalcode  \\\n",
       "0  CA-2016-152156    CG-12520  United States        Henderson       42420   \n",
       "1  CA-2016-138688    DV-13045  United States      Los Angeles       90036   \n",
       "2  US-2015-108966    SO-20335  United States  Fort Lauderdale       33311   \n",
       "3  CA-2014-115812    BH-11710  United States      Los Angeles       90032   \n",
       "4  CA-2017-114412    AA-10480  United States          Concord       28027   \n",
       "\n",
       "  region           state  \n",
       "0  South        Kentucky  \n",
       "1   West      California  \n",
       "2  South         Florida  \n",
       "3   West      California  \n",
       "4  South  North Carolina  "
      ]
     },
     "execution_count": 242,
     "metadata": {},
     "output_type": "execute_result"
    }
   ],
   "source": [
    "df.address_state = pd.read_csv(\"address_with_state.csv\", encoding=\"latin-1\")\n",
    "\n",
    "df.address_state.head(5)  "
   ]
  },
  {
   "cell_type": "code",
   "execution_count": 243,
   "id": "3888d8e7",
   "metadata": {},
   "outputs": [
    {
     "name": "stdout",
     "output_type": "stream",
     "text": [
      "Top 5 states by sales:\n",
      "          state  total_sales  total_profit\n",
      "0    California  457687.6315    76381.3871\n",
      "1      New York  310827.1510    74015.4622\n",
      "2         Texas  170188.0458   -25729.3563\n",
      "3    Washington  138641.2700    33402.6517\n",
      "4  Pennsylvania  116511.9140   -15559.9603\n"
     ]
    }
   ],
   "source": [
    "conn = sqlite3.connect(\"shop.db\")\n",
    "cur  = conn.cursor()\n",
    "\n",
    "# Top 5 states by sales (also shows profit)\n",
    "sql_top5_states = \"\"\"\n",
    "SELECT a.state,\n",
    "       SUM(s.sales)  AS total_sales,\n",
    "       SUM(s.profit) AS total_profit\n",
    "FROM sales s\n",
    "JOIN address a\n",
    "  ON a.order_id = s.order_id\n",
    "GROUP BY a.state\n",
    "ORDER BY total_sales DESC\n",
    "LIMIT 5;\n",
    "\"\"\"\n",
    "cur.execute(sql_top5_states)\n",
    "rows = cur.fetchall()\n",
    "top5_states_df = pd.DataFrame(rows, columns=[\"state\", \"total_sales\", \"total_profit\"])\n",
    "print(\"Top 5 states by sales:\")\n",
    "print(top5_states_df)\n",
    "\n",
    "cur.close()\n",
    "conn.close()"
   ]
  },
  {
   "cell_type": "code",
   "execution_count": 245,
   "id": "165809bf",
   "metadata": {},
   "outputs": [
    {
     "name": "stdout",
     "output_type": "stream",
     "text": [
      "Bottom 5 states by sales:\n",
      "           state  total_sales  total_profit\n",
      "0   North Dakota      919.910      230.1497\n",
      "1  West Virginia     1209.824      185.9216\n",
      "2          Maine     1270.530      454.4862\n",
      "3   South Dakota     1315.560      394.8283\n",
      "4        Wyoming     1603.136      100.1960\n"
     ]
    }
   ],
   "source": [
    "conn = sqlite3.connect(\"shop.db\")\n",
    "cur  = conn.cursor()\n",
    "\n",
    "# Bottom 5 states by sales (also shows profit)\n",
    "sql_bottom5_states = \"\"\"\n",
    "SELECT a.state,\n",
    "       SUM(s.sales)  AS total_sales,\n",
    "       SUM(s.profit) AS total_profit\n",
    "FROM sales s\n",
    "JOIN address a\n",
    "  ON a.order_id = s.order_id\n",
    "GROUP BY a.state\n",
    "ORDER BY total_sales ASC\n",
    "LIMIT 5;\n",
    "\"\"\"\n",
    "cur.execute(sql_bottom5_states)\n",
    "rows = cur.fetchall()\n",
    "bottom5_states_df = pd.DataFrame(rows, columns=[\"state\", \"total_sales\", \"total_profit\"])\n",
    "print(\"Bottom 5 states by sales:\")\n",
    "print(bottom5_states_df)\n",
    "\n",
    "cur.close()\n",
    "conn.close()"
   ]
  },
  {
   "cell_type": "markdown",
   "id": "d3172f95",
   "metadata": {},
   "source": [
    "# Top 3 products per segment by SALES"
   ]
  },
  {
   "cell_type": "code",
   "execution_count": 252,
   "id": "20fc8361",
   "metadata": {},
   "outputs": [
    {
     "name": "stdout",
     "output_type": "stream",
     "text": [
      "          segment                                        productname  \\\n",
      "372      Consumer              Canon imageCLASS 2200 Advanced Copier   \n",
      "730      Consumer  HP Designjet T520 Inkjet Large Format Printer ...   \n",
      "729      Consumer       HON 5400 Series Task Chairs for Big and Tall   \n",
      "2012    Corporate              Canon imageCLASS 2200 Advanced Copier   \n",
      "1721    Corporate   3D Systems Cube Printer, 2nd Generation, Magenta   \n",
      "2534    Corporate  Martin Yale Chadless Opener Electric Letter Op...   \n",
      "3411  Home Office  Cisco TelePresence System EX90 Videoconferenci...   \n",
      "3387  Home Office              Canon imageCLASS 2200 Advanced Copier   \n",
      "3627  Home Office               Hewlett Packard LaserJet 3310 Copier   \n",
      "\n",
      "      total_sales  \n",
      "372     32899.906  \n",
      "730     18374.895  \n",
      "729     17384.304  \n",
      "2012    17499.950  \n",
      "1721    14299.890  \n",
      "2534     8328.100  \n",
      "3411    22638.480  \n",
      "3387    11199.968  \n",
      "3627     9239.846  \n"
     ]
    }
   ],
   "source": [
    "import sqlite3, pandas as pd\n",
    "\n",
    "conn = sqlite3.connect(\"shop.db\")\n",
    "sql = \"\"\"\n",
    "SELECT\n",
    "  c.segment,\n",
    "  p.productname,\n",
    "  SUM(s.sales)  AS total_sales,\n",
    "  SUM(s.profit) AS total_profit\n",
    "FROM sales s\n",
    "JOIN product  p ON p.order_id = s.order_id AND p.product_id = s.product_id\n",
    "JOIN orders   o ON o.order_id = s.order_id\n",
    "JOIN customer c ON c.customer_id = o.customer_id\n",
    "GROUP BY c.segment, p.productname;\n",
    "\"\"\"\n",
    "df = pd.read_sql_query(sql, conn)\n",
    "conn.close()\n",
    "\n",
    "# Top 3 products per segment by SALES\n",
    "top3 = (\n",
    "    df.sort_values([\"segment\",\"total_sales\"], ascending=[True, False])\n",
    "      .groupby(\"segment\", as_index=False, group_keys=False)\n",
    "      .head(3)\n",
    ")\n",
    "\n",
    "print(top3[[\"segment\",\"productname\",\"total_sales\"]])\n",
    "\n"
   ]
  },
  {
   "cell_type": "markdown",
   "id": "6b478c93",
   "metadata": {},
   "source": [
    "# TOP 3 products per segment"
   ]
  },
  {
   "cell_type": "code",
   "execution_count": 253,
   "id": "aad9971d",
   "metadata": {},
   "outputs": [
    {
     "name": "stdout",
     "output_type": "stream",
     "text": [
      "          segment                             productname  total_qty\n",
      "1373     Consumer                         Staple envelope        104\n",
      "1378     Consumer                                 Staples         97\n",
      "1379     Consumer                 Staples in misc. colors         75\n",
      "2887    Corporate                                 Staples         90\n",
      "2881    Corporate                         Staple envelope         63\n",
      "2119    Corporate                       Easy-staple paper         44\n",
      "3466  Home Office                       Easy-staple paper         46\n",
      "3604  Home Office  Global Stack Chair without Arms, Black         31\n",
      "4234  Home Office                               Xerox 226         31\n"
     ]
    }
   ],
   "source": [
    "conn = sqlite3.connect(\"shop.db\")\n",
    "\n",
    "# 1) Get totals per segment & product (quantity-wise)\n",
    "sql = \"\"\"\n",
    "SELECT\n",
    "  c.segment,\n",
    "  p.productname,\n",
    "  SUM(s.quantity) AS total_qty\n",
    "FROM sales s\n",
    "JOIN product  p ON p.order_id = s.order_id AND p.product_id = s.product_id\n",
    "JOIN orders   o ON o.order_id = s.order_id\n",
    "JOIN customer c ON c.customer_id = o.customer_id\n",
    "GROUP BY c.segment, p.productname;\n",
    "\"\"\"\n",
    "df = pd.read_sql_query(sql, conn)\n",
    "conn.close()\n",
    "\n",
    "# 2) Keep the 3 best-sellers by quantity in each segment\n",
    "top3_qty = (\n",
    "    df.sort_values([\"segment\",\"total_qty\"], ascending=[True, False])\n",
    "      .groupby(\"segment\", as_index=False, group_keys=False)\n",
    "      .head(3)\n",
    ")\n",
    "\n",
    "print(top3_qty)\n"
   ]
  },
  {
   "cell_type": "markdown",
   "id": "6a73002a",
   "metadata": {},
   "source": [
    "# TOP 3 worst products per category"
   ]
  },
  {
   "cell_type": "code",
   "execution_count": 261,
   "id": "212c2368",
   "metadata": {},
   "outputs": [
    {
     "name": "stdout",
     "output_type": "stream",
     "text": [
      "          segment                             productname  total_qty\n",
      "1373     Consumer                         Staple envelope        104\n",
      "1378     Consumer                                 Staples         97\n",
      "1379     Consumer                 Staples in misc. colors         75\n",
      "2887    Corporate                                 Staples         90\n",
      "2881    Corporate                         Staple envelope         63\n",
      "2119    Corporate                       Easy-staple paper         44\n",
      "3466  Home Office                       Easy-staple paper         46\n",
      "3604  Home Office  Global Stack Chair without Arms, Black         31\n",
      "4234  Home Office                               Xerox 226         31\n"
     ]
    }
   ],
   "source": [
    "conn = sqlite3.connect(\"shop.db\")\n",
    "\n",
    "sql = \"\"\"\n",
    "SELECT\n",
    "  c.segment,\n",
    "  p.productname,\n",
    "  SUM(s.quantity) AS total_qty\n",
    "FROM sales s\n",
    "JOIN product  p ON p.order_id = s.order_id AND p.product_id = s.product_id\n",
    "JOIN orders   o ON o.order_id = s.order_id\n",
    "JOIN customer c ON c.customer_id = o.customer_id\n",
    "GROUP BY c.segment, p.productname;\n",
    "\"\"\"\n",
    "df = pd.read_sql_query(sql, conn)\n",
    "conn.close()\n",
    "\n",
    "top3_qty = (\n",
    "    df.sort_values([\"segment\",\"total_qty\"], ascending=[True, False])\n",
    "      .groupby(\"segment\", as_index=False, group_keys=False)\n",
    "      .head(3)\n",
    ")\n",
    "\n",
    "print(top3_qty)\n"
   ]
  }
 ],
 "metadata": {
  "kernelspec": {
   "display_name": "CodeAcademy",
   "language": "python",
   "name": "python3"
  },
  "language_info": {
   "codemirror_mode": {
    "name": "ipython",
    "version": 3
   },
   "file_extension": ".py",
   "mimetype": "text/x-python",
   "name": "python",
   "nbconvert_exporter": "python",
   "pygments_lexer": "ipython3",
   "version": "3.12.11"
  }
 },
 "nbformat": 4,
 "nbformat_minor": 5
}
