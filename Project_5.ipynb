{
 "cells": [
  {
   "cell_type": "markdown",
   "id": "d3800940",
   "metadata": {},
   "source": [
    "# EDA"
   ]
  },
  {
   "cell_type": "code",
   "execution_count": 2,
   "id": "74e9d072",
   "metadata": {},
   "outputs": [
    {
     "data": {
      "text/html": [
       "<div>\n",
       "<style scoped>\n",
       "    .dataframe tbody tr th:only-of-type {\n",
       "        vertical-align: middle;\n",
       "    }\n",
       "\n",
       "    .dataframe tbody tr th {\n",
       "        vertical-align: top;\n",
       "    }\n",
       "\n",
       "    .dataframe thead th {\n",
       "        text-align: right;\n",
       "    }\n",
       "</style>\n",
       "<table border=\"1\" class=\"dataframe\">\n",
       "  <thead>\n",
       "    <tr style=\"text-align: right;\">\n",
       "      <th></th>\n",
       "      <th>Row ID</th>\n",
       "      <th>Order ID</th>\n",
       "      <th>Order Date</th>\n",
       "      <th>Ship Date</th>\n",
       "      <th>Ship Mode</th>\n",
       "      <th>Customer ID</th>\n",
       "      <th>Customer Name</th>\n",
       "      <th>Segment</th>\n",
       "      <th>Country</th>\n",
       "      <th>City</th>\n",
       "      <th>...</th>\n",
       "      <th>Postal Code</th>\n",
       "      <th>Region</th>\n",
       "      <th>Product ID</th>\n",
       "      <th>Category</th>\n",
       "      <th>Sub-Category</th>\n",
       "      <th>Product Name</th>\n",
       "      <th>Sales</th>\n",
       "      <th>Quantity</th>\n",
       "      <th>Discount</th>\n",
       "      <th>Profit</th>\n",
       "    </tr>\n",
       "  </thead>\n",
       "  <tbody>\n",
       "    <tr>\n",
       "      <th>0</th>\n",
       "      <td>1</td>\n",
       "      <td>CA-2016-152156</td>\n",
       "      <td>11/8/2016</td>\n",
       "      <td>11/11/2016</td>\n",
       "      <td>Second Class</td>\n",
       "      <td>CG-12520</td>\n",
       "      <td>Claire Gute</td>\n",
       "      <td>Consumer</td>\n",
       "      <td>United States</td>\n",
       "      <td>Henderson</td>\n",
       "      <td>...</td>\n",
       "      <td>42420</td>\n",
       "      <td>South</td>\n",
       "      <td>FUR-BO-10001798</td>\n",
       "      <td>Furniture</td>\n",
       "      <td>Bookcases</td>\n",
       "      <td>Bush Somerset Collection Bookcase</td>\n",
       "      <td>261.9600</td>\n",
       "      <td>2</td>\n",
       "      <td>0.00</td>\n",
       "      <td>41.9136</td>\n",
       "    </tr>\n",
       "    <tr>\n",
       "      <th>1</th>\n",
       "      <td>2</td>\n",
       "      <td>CA-2016-152156</td>\n",
       "      <td>11/8/2016</td>\n",
       "      <td>11/11/2016</td>\n",
       "      <td>Second Class</td>\n",
       "      <td>CG-12520</td>\n",
       "      <td>Claire Gute</td>\n",
       "      <td>Consumer</td>\n",
       "      <td>United States</td>\n",
       "      <td>Henderson</td>\n",
       "      <td>...</td>\n",
       "      <td>42420</td>\n",
       "      <td>South</td>\n",
       "      <td>FUR-CH-10000454</td>\n",
       "      <td>Furniture</td>\n",
       "      <td>Chairs</td>\n",
       "      <td>Hon Deluxe Fabric Upholstered Stacking Chairs,...</td>\n",
       "      <td>731.9400</td>\n",
       "      <td>3</td>\n",
       "      <td>0.00</td>\n",
       "      <td>219.5820</td>\n",
       "    </tr>\n",
       "    <tr>\n",
       "      <th>2</th>\n",
       "      <td>3</td>\n",
       "      <td>CA-2016-138688</td>\n",
       "      <td>6/12/2016</td>\n",
       "      <td>6/16/2016</td>\n",
       "      <td>Second Class</td>\n",
       "      <td>DV-13045</td>\n",
       "      <td>Darrin Van Huff</td>\n",
       "      <td>Corporate</td>\n",
       "      <td>United States</td>\n",
       "      <td>Los Angeles</td>\n",
       "      <td>...</td>\n",
       "      <td>90036</td>\n",
       "      <td>West</td>\n",
       "      <td>OFF-LA-10000240</td>\n",
       "      <td>Office Supplies</td>\n",
       "      <td>Labels</td>\n",
       "      <td>Self-Adhesive Address Labels for Typewriters b...</td>\n",
       "      <td>14.6200</td>\n",
       "      <td>2</td>\n",
       "      <td>0.00</td>\n",
       "      <td>6.8714</td>\n",
       "    </tr>\n",
       "    <tr>\n",
       "      <th>3</th>\n",
       "      <td>4</td>\n",
       "      <td>US-2015-108966</td>\n",
       "      <td>10/11/2015</td>\n",
       "      <td>10/18/2015</td>\n",
       "      <td>Standard Class</td>\n",
       "      <td>SO-20335</td>\n",
       "      <td>Sean O'Donnell</td>\n",
       "      <td>Consumer</td>\n",
       "      <td>United States</td>\n",
       "      <td>Fort Lauderdale</td>\n",
       "      <td>...</td>\n",
       "      <td>33311</td>\n",
       "      <td>South</td>\n",
       "      <td>FUR-TA-10000577</td>\n",
       "      <td>Furniture</td>\n",
       "      <td>Tables</td>\n",
       "      <td>Bretford CR4500 Series Slim Rectangular Table</td>\n",
       "      <td>957.5775</td>\n",
       "      <td>5</td>\n",
       "      <td>0.45</td>\n",
       "      <td>-383.0310</td>\n",
       "    </tr>\n",
       "    <tr>\n",
       "      <th>4</th>\n",
       "      <td>5</td>\n",
       "      <td>US-2015-108966</td>\n",
       "      <td>10/11/2015</td>\n",
       "      <td>10/18/2015</td>\n",
       "      <td>Standard Class</td>\n",
       "      <td>SO-20335</td>\n",
       "      <td>Sean O'Donnell</td>\n",
       "      <td>Consumer</td>\n",
       "      <td>United States</td>\n",
       "      <td>Fort Lauderdale</td>\n",
       "      <td>...</td>\n",
       "      <td>33311</td>\n",
       "      <td>South</td>\n",
       "      <td>OFF-ST-10000760</td>\n",
       "      <td>Office Supplies</td>\n",
       "      <td>Storage</td>\n",
       "      <td>Eldon Fold 'N Roll Cart System</td>\n",
       "      <td>22.3680</td>\n",
       "      <td>2</td>\n",
       "      <td>0.20</td>\n",
       "      <td>2.5164</td>\n",
       "    </tr>\n",
       "  </tbody>\n",
       "</table>\n",
       "<p>5 rows × 21 columns</p>\n",
       "</div>"
      ],
      "text/plain": [
       "   Row ID        Order ID  Order Date   Ship Date       Ship Mode Customer ID  \\\n",
       "0       1  CA-2016-152156   11/8/2016  11/11/2016    Second Class    CG-12520   \n",
       "1       2  CA-2016-152156   11/8/2016  11/11/2016    Second Class    CG-12520   \n",
       "2       3  CA-2016-138688   6/12/2016   6/16/2016    Second Class    DV-13045   \n",
       "3       4  US-2015-108966  10/11/2015  10/18/2015  Standard Class    SO-20335   \n",
       "4       5  US-2015-108966  10/11/2015  10/18/2015  Standard Class    SO-20335   \n",
       "\n",
       "     Customer Name    Segment        Country             City  ...  \\\n",
       "0      Claire Gute   Consumer  United States        Henderson  ...   \n",
       "1      Claire Gute   Consumer  United States        Henderson  ...   \n",
       "2  Darrin Van Huff  Corporate  United States      Los Angeles  ...   \n",
       "3   Sean O'Donnell   Consumer  United States  Fort Lauderdale  ...   \n",
       "4   Sean O'Donnell   Consumer  United States  Fort Lauderdale  ...   \n",
       "\n",
       "  Postal Code  Region       Product ID         Category Sub-Category  \\\n",
       "0       42420   South  FUR-BO-10001798        Furniture    Bookcases   \n",
       "1       42420   South  FUR-CH-10000454        Furniture       Chairs   \n",
       "2       90036    West  OFF-LA-10000240  Office Supplies       Labels   \n",
       "3       33311   South  FUR-TA-10000577        Furniture       Tables   \n",
       "4       33311   South  OFF-ST-10000760  Office Supplies      Storage   \n",
       "\n",
       "                                        Product Name     Sales  Quantity  \\\n",
       "0                  Bush Somerset Collection Bookcase  261.9600         2   \n",
       "1  Hon Deluxe Fabric Upholstered Stacking Chairs,...  731.9400         3   \n",
       "2  Self-Adhesive Address Labels for Typewriters b...   14.6200         2   \n",
       "3      Bretford CR4500 Series Slim Rectangular Table  957.5775         5   \n",
       "4                     Eldon Fold 'N Roll Cart System   22.3680         2   \n",
       "\n",
       "   Discount    Profit  \n",
       "0      0.00   41.9136  \n",
       "1      0.00  219.5820  \n",
       "2      0.00    6.8714  \n",
       "3      0.45 -383.0310  \n",
       "4      0.20    2.5164  \n",
       "\n",
       "[5 rows x 21 columns]"
      ]
     },
     "execution_count": 2,
     "metadata": {},
     "output_type": "execute_result"
    }
   ],
   "source": [
    "import pandas as pd\n",
    "import sqlite3\n",
    "\n",
    "df = pd.read_csv(\"Sample_Superstore.csv\", encoding=\"latin-1\")\n",
    "\n",
    "# df.info()\n",
    "\n",
    "df.head()\n",
    "\n",
    "# df.shape\n",
    "\n",
    "# df.columns"
   ]
  },
  {
   "cell_type": "code",
   "execution_count": 37,
   "id": "c6ad4a96",
   "metadata": {},
   "outputs": [
    {
     "name": "stdout",
     "output_type": "stream",
     "text": [
      "['Row ID', 'Order ID', 'Order Date', 'Ship Date', 'Ship Mode', 'Customer ID', 'Customer Name', 'Segment', 'Country', 'City', 'State', 'Postal Code', 'Region', 'Product ID', 'Category', 'Sub-Category', 'Product Name', 'Sales', 'Quantity', 'Discount', 'Profit']\n"
     ]
    }
   ],
   "source": [
    "print(df.columns.tolist())\n"
   ]
  },
  {
   "cell_type": "code",
   "execution_count": null,
   "id": "89fe6289",
   "metadata": {},
   "outputs": [
    {
     "data": {
      "text/plain": [
       "9994"
      ]
     },
     "execution_count": 172,
     "metadata": {},
     "output_type": "execute_result"
    }
   ],
   "source": [
    "df = pd.read_csv(\"Sample-Superstore-clean.csv\", encoding=\"latin-1\")\n",
    "\n",
    "# Conectar a SQLite (esto crea el archivo superstore.db si no existe)\n",
    "conn = sqlite3.connect(\"superstore.db\")\n",
    "\n",
    "# Guardar los datos en una tabla llamada \"Superstore\"\n",
    "df.to_sql(\"Superstore\", conn, if_exists=\"replace\", index=False)\n",
    "\n"
   ]
  },
  {
   "cell_type": "markdown",
   "id": "2a2bf014",
   "metadata": {},
   "source": [
    "# Create TABLES + CSV"
   ]
  },
  {
   "cell_type": "markdown",
   "id": "8b426e61",
   "metadata": {},
   "source": [
    "## Customer"
   ]
  },
  {
   "cell_type": "code",
   "execution_count": 136,
   "id": "face4be8",
   "metadata": {},
   "outputs": [],
   "source": [
    "conn = sqlite3.connect(\"shop.db\")\n",
    "cur = conn.cursor()\n",
    "\n",
    "customer_table = \"\"\"\n",
    "   CREATE TABLE IF NOT EXISTS customer (\n",
    "      customer_id  TEXT PRIMARY KEY,\n",
    "      customername TEXT NOT NULL,\n",
    "      segment      TEXT\n",
    "   )\n",
    "\"\"\"\n",
    "cur.execute(customer_table)\n",
    "\n",
    "cur.close()\n",
    "conn.close()"
   ]
  },
  {
   "cell_type": "code",
   "execution_count": 137,
   "id": "62519284",
   "metadata": {},
   "outputs": [],
   "source": [
    "df = pd.read_csv(\"Sample_Superstore.csv\", encoding=\"latin-1\")\n",
    "\n",
    "customer_table = df[[\"Customer ID\", \"Customer Name\", \"Segment\"]].copy()\n",
    "customer_table.rename(columns={\"Customer ID\": \"customer_id\", \"Customer Name\": \"customername\", \"Segment\": \"segment\"}, inplace=True)\n",
    "customer_table.drop_duplicates(subset=[\"customer_id\"], inplace=True)\n",
    "\n",
    "customer_table.to_csv(\"customer.csv\", index=False)"
   ]
  },
  {
   "cell_type": "code",
   "execution_count": 138,
   "id": "aa26f558",
   "metadata": {},
   "outputs": [],
   "source": [
    "conn = sqlite3.connect(\"shop.db\")\n",
    "\n",
    "customer_table.to_sql(\n",
    "   \"customer\", # the name of the table\n",
    "   con=conn, # the connection variable\n",
    "   index=False, # whether to include the index column\n",
    "   if_exists=\"append\" # define behavior if table already exists\n",
    ")\n",
    "conn.close()"
   ]
  },
  {
   "cell_type": "code",
   "execution_count": 139,
   "id": "7eb2d34d",
   "metadata": {},
   "outputs": [
    {
     "data": {
      "text/plain": [
       "<bound method DataFrame.info of     customer_id       customername      segment\n",
       "0      CG-12520        Claire Gute     Consumer\n",
       "1      DV-13045    Darrin Van Huff    Corporate\n",
       "2      SO-20335     Sean O'Donnell     Consumer\n",
       "3      BH-11710    Brosina Hoffman     Consumer\n",
       "4      AA-10480       Andrew Allen     Consumer\n",
       "..          ...                ...          ...\n",
       "788    CJ-11875       Carl Jackson    Corporate\n",
       "789    RS-19870         Roy Skaria  Home Office\n",
       "790    SC-20845         Sung Chung     Consumer\n",
       "791    RE-19405    Ricardo Emerson     Consumer\n",
       "792    SM-20905  Susan MacKendrick     Consumer\n",
       "\n",
       "[793 rows x 3 columns]>"
      ]
     },
     "execution_count": 139,
     "metadata": {},
     "output_type": "execute_result"
    }
   ],
   "source": [
    "df_customer = pd.read_csv(\"customer.csv\", encoding=\"latin-1\")\n",
    "\n",
    "df_customer.info"
   ]
  },
  {
   "cell_type": "markdown",
   "id": "75ee4684",
   "metadata": {},
   "source": [
    "## Orders"
   ]
  },
  {
   "cell_type": "code",
   "execution_count": 140,
   "id": "fb333a51",
   "metadata": {},
   "outputs": [],
   "source": [
    "conn = sqlite3.connect(\"shop.db\")\n",
    "cur = conn.cursor()\n",
    "\n",
    "cur.execute(\"PRAGMA foreign_keys = ON;\")\n",
    "\n",
    "orders_table = \"\"\"\n",
    "CREATE TABLE IF NOT EXISTS orders (\n",
    "  order_id     TEXT    PRIMARY KEY,\n",
    "  address_id   INTEGER NOT NULL,\n",
    "  customer_id  TEXT    NOT NULL,\n",
    "  ship_mode    TEXT,\n",
    "  ship_date    TEXT,\n",
    "  FOREIGN KEY (address_id)  REFERENCES address(address_id),\n",
    "  FOREIGN KEY (customer_id) REFERENCES customer(customer_id)\n",
    ");\n",
    "\"\"\"\n",
    "\n",
    "cur.execute(orders_table) \n",
    "conn.commit()\n",
    "cur.close()\n",
    "conn.close()\n"
   ]
  },
  {
   "cell_type": "code",
   "execution_count": 141,
   "id": "929e14ef",
   "metadata": {},
   "outputs": [],
   "source": [
    "df = pd.read_csv(\"Sample_Superstore.csv\", encoding=\"latin-1\")\n",
    "\n",
    "orders_table = df[[\"Order ID\", \"Customer ID\", \"Ship Mode\", \"Ship Date\"]].copy()\n",
    "\n",
    "orders_table.drop_duplicates(subset=[\"Order ID\"], inplace=True)\n",
    "\n",
    "orders_table[\"address_id\"] = range(1, len(orders_table) + 1)\n",
    "\n",
    "orders_table.rename(columns={\n",
    "    \"Order ID\": \"order_id\",\n",
    "    \"Customer ID\": \"customer_id\",\n",
    "    \"Ship Mode\": \"ship_mode\",\n",
    "    \"Ship Date\": \"ship_date\"\n",
    "}, inplace=True)\n",
    "\n",
    "orders_table.to_csv(\"orders.csv\", index=False)\n"
   ]
  },
  {
   "cell_type": "code",
   "execution_count": 142,
   "id": "7c5d584b",
   "metadata": {},
   "outputs": [],
   "source": [
    "# Populate\n",
    "\n",
    "conn = sqlite3.connect(\"shop.db\")\n",
    "\n",
    "orders_table.to_sql(\n",
    "   \"orders\", # the name of the table\n",
    "   con=conn, # the connection variable\n",
    "   index=False, # whether to include the index column\n",
    "   if_exists=\"append\" # define behavior if table already exists\n",
    ")\n",
    "conn.close()"
   ]
  },
  {
   "cell_type": "markdown",
   "id": "a7635576",
   "metadata": {},
   "source": [
    "## Address"
   ]
  },
  {
   "cell_type": "code",
   "execution_count": 143,
   "id": "011c43ee",
   "metadata": {},
   "outputs": [],
   "source": [
    "conn = sqlite3.connect(\"shop.db\")\n",
    "cur = conn.cursor()\n",
    "\n",
    "cur.execute(\"PRAGMA foreign_keys = ON;\")\n",
    "\n",
    "address_table = \"\"\"\n",
    "CREATE TABLE IF NOT EXISTS address (\n",
    "  address_id  INTEGER PRIMARY KEY,\n",
    "  customer_id TEXT NOT NULL,\n",
    "  country     TEXT,\n",
    "  city        TEXT,\n",
    "  postalcode  TEXT,      \n",
    "  region      TEXT,\n",
    "  state       TEXT,\n",
    "  FOREIGN KEY (customer_id) REFERENCES customer(customer_id)\n",
    ");\n",
    "\"\"\"\n",
    "\n",
    "cur.execute(address_table)\n",
    "conn.commit()\n",
    "cur.close()\n",
    "conn.close()\n"
   ]
  },
  {
   "cell_type": "code",
   "execution_count": 144,
   "id": "f67f9704",
   "metadata": {},
   "outputs": [],
   "source": [
    "df = pd.read_csv(\"Sample_Superstore.csv\", encoding=\"latin-1\")\n",
    "\n",
    "df[\"address_id\"] = range(1, len(df) + 1)\n",
    "\n",
    "address_table = df[[\"address_id\", \"Customer ID\", \"Country\", \"City\", \"Postal Code\", \"Region\", \"State\"]].copy()\n",
    "address_table.rename(columns={\"Customer ID\": \"customer_id\", \"Country\": \"country\", \"City\": \"city\", \"Postal Code\": \"postalcode\", \"Region\": \"region\", \"State\": \"state\"}, inplace=True)\n",
    "address_table = address_table.drop_duplicates(\n",
    "    subset=[\"country\", \"city\", \"postalcode\", \"region\", \"state\"]\n",
    ")\n",
    "\n",
    "address_table.to_csv(\"address.csv\", index=False)"
   ]
  },
  {
   "cell_type": "code",
   "execution_count": 145,
   "id": "1064d28f",
   "metadata": {},
   "outputs": [],
   "source": [
    "conn = sqlite3.connect(\"shop.db\")\n",
    "\n",
    "address_table.to_sql(\n",
    "   \"address\", # the name of the table\n",
    "   con=conn, # the connection variable\n",
    "   index=False, # whether to include the index column\n",
    "   if_exists=\"append\" # define behavior if table already exists\n",
    ")\n",
    "conn.close()"
   ]
  },
  {
   "cell_type": "markdown",
   "id": "34fce4b4",
   "metadata": {},
   "source": [
    "## Product"
   ]
  },
  {
   "cell_type": "code",
   "execution_count": 146,
   "id": "3ba5bc25",
   "metadata": {},
   "outputs": [],
   "source": [
    "conn = sqlite3.connect(\"shop.db\")\n",
    "cur = conn.cursor()\n",
    "\n",
    "cur.execute(\"PRAGMA foreign_keys = ON;\")\n",
    "\n",
    "product_table = \"\"\"\n",
    "CREATE TABLE IF NOT EXISTS product (\n",
    "  product_id   TEXT PRIMARY KEY, \n",
    "  productname  TEXT,\n",
    "  category     TEXT,\n",
    "  subcategory  TEXT\n",
    ");\n",
    "\"\"\"\n",
    "cur.execute(product_table)\n",
    "\n",
    "conn.commit()\n",
    "cur.close()\n",
    "conn.close()\n"
   ]
  },
  {
   "cell_type": "code",
   "execution_count": 147,
   "id": "3bc7e8de",
   "metadata": {},
   "outputs": [],
   "source": [
    "df = pd.read_csv(\"Sample_Superstore.csv\", encoding=\"latin-1\")\n",
    "\n",
    "product_table = df[[\"Product ID\", \"Product Name\", \"Category\", \"Sub-Category\"]].copy()\n",
    "product_table.rename(columns={\"Product ID\": \"product_id\", \"Product Name\": \"productname\", \"Category\": \"category\", \"Sub-Category\": \"subcategory\"}, inplace=True)\n",
    "product_table = product_table.drop_duplicates(subset=[\"product_id\"], keep=\"first\")\n",
    "\n",
    "product_table.to_csv(\"product.csv\", index=False)"
   ]
  },
  {
   "cell_type": "code",
   "execution_count": 148,
   "id": "44ed2419",
   "metadata": {},
   "outputs": [],
   "source": [
    "conn = sqlite3.connect(\"shop.db\")\n",
    "\n",
    "product_table.to_sql(\n",
    "   \"product\", # the name of the table\n",
    "   con=conn, # the connection variable\n",
    "   index=False, # whether to include the index column\n",
    "   if_exists=\"append\" # define behavior if table already exists\n",
    ")\n",
    "conn.close()"
   ]
  },
  {
   "cell_type": "markdown",
   "id": "14d0ce5f",
   "metadata": {},
   "source": [
    "## Sales"
   ]
  },
  {
   "cell_type": "code",
   "execution_count": 150,
   "id": "636ff8ed",
   "metadata": {},
   "outputs": [],
   "source": [
    "import sqlite3 \n",
    "\n",
    "conn = sqlite3.connect(\"shop.db\")\n",
    "cur = conn.cursor()\n",
    "\n",
    "sales_table = \"\"\"\n",
    "CREATE TABLE IF NOT EXISTS sales (\n",
    "  sale_id      INTEGER PRIMARY KEY,\n",
    "  order_id     TEXT    NOT NULL,\n",
    "  product_id   TEXT    NOT NULL,\n",
    "  sales_amount REAL,\n",
    "  quantity     INTEGER,\n",
    "  discount     REAL,\n",
    "  profit       REAL,\n",
    "  FOREIGN KEY (order_id)  REFERENCES orders(order_id),\n",
    "  FOREIGN KEY (product_id) REFERENCES product(product_id)\n",
    ");\n",
    "\"\"\"\n",
    "cur.execute(sales_table)\n",
    "conn.commit() \n",
    "cur.close()\n",
    "conn.close()\n",
    "\n"
   ]
  },
  {
   "cell_type": "code",
   "execution_count": 151,
   "id": "67e6df19",
   "metadata": {},
   "outputs": [],
   "source": [
    "df = pd.read_csv(\"Sample_Superstore.csv\", encoding=\"latin-1\")\n",
    "\n",
    "sales_table = df[[\"Order ID\", \"Product ID\", \"Sales\", \"Quantity\", \"Discount\", \"Profit\"]].copy()\n",
    "sales_table.rename(columns={\"Order ID\": \"order_id\", \"Product ID\": \"product_id\", \"Sales\": \"sales_amount\", \"Quantity\": \"quantity\", \"Discount\": \"discount\", \"Profit\": \"profit\"}, inplace=True)\n",
    "sales_table.drop_duplicates(inplace=True)\n",
    "\n",
    "sales_table.to_csv(\"sales.csv\", index=False)"
   ]
  },
  {
   "cell_type": "code",
   "execution_count": 152,
   "id": "0cbdd3d8",
   "metadata": {},
   "outputs": [],
   "source": [
    "conn = sqlite3.connect(\"shop.db\")\n",
    "\n",
    "sales_table.to_sql(\n",
    "   \"sales\", # the name of the table\n",
    "   con=conn, # the connection variable\n",
    "   index=False, # whether to include the index column\n",
    "   if_exists=\"append\" # define behavior if table already exists\n",
    ")\n",
    "conn.close()"
   ]
  },
  {
   "cell_type": "markdown",
   "id": "2aed7f22",
   "metadata": {},
   "source": [
    "# SPRINT 1"
   ]
  },
  {
   "cell_type": "markdown",
   "id": "c2bac8f1",
   "metadata": {},
   "source": [
    "## TOP CATEGORIES "
   ]
  },
  {
   "cell_type": "code",
   "execution_count": 153,
   "id": "5c290122",
   "metadata": {},
   "outputs": [
    {
     "name": "stdout",
     "output_type": "stream",
     "text": [
      "          category  total_sales\n",
      "0       Technology  836154.0330\n",
      "1        Furniture  741718.4233\n",
      "2  Office Supplies  719047.0320\n"
     ]
    }
   ],
   "source": [
    "conn = sqlite3.connect(\"shop.db\")\n",
    "cur  = conn.cursor()\n",
    "\n",
    "sql_all_categories = \"\"\"\n",
    "SELECT \n",
    "    p.category,\n",
    "    SUM(s.sales_amount) AS total_sales\n",
    "FROM sales s\n",
    "JOIN product p ON s.product_id = p.product_id\n",
    "GROUP BY p.category\n",
    "ORDER BY total_sales DESC;\n",
    "\"\"\"\n",
    "\n",
    "cur.execute(sql_all_categories)\n",
    "rows = cur.fetchall()\n",
    "\n",
    "# Only two columns here:\n",
    "all_categories_df = pd.DataFrame(rows, columns=[\"category\", \"total_sales\"])\n",
    "print(all_categories_df)\n",
    "\n",
    "cur.close()\n",
    "conn.close()"
   ]
  },
  {
   "cell_type": "code",
   "execution_count": 154,
   "id": "c393a30d",
   "metadata": {},
   "outputs": [
    {
     "name": "stdout",
     "output_type": "stream",
     "text": [
      "Categories with losses:\n",
      "Empty DataFrame\n",
      "Columns: [category, total_profit]\n",
      "Index: []\n"
     ]
    }
   ],
   "source": [
    "conn = sqlite3.connect(\"shop.db\")\n",
    "cur  = conn.cursor()\n",
    "\n",
    "sql_loss_categories = \"\"\"\n",
    "SELECT p.category,\n",
    "       SUM(s.profit) AS total_profit\n",
    "FROM sales s\n",
    "JOIN product p\n",
    "  ON p.product_id = s.product_id\n",
    "GROUP BY p.category\n",
    "HAVING total_profit < 0;\n",
    "\"\"\"\n",
    "\n",
    "cur.execute(sql_loss_categories)\n",
    "rows = cur.fetchall()\n",
    "loss_categories_df = pd.DataFrame(rows, columns=[\"category\", \"total_profit\"])\n",
    "print(\"Categories with losses:\")\n",
    "print(loss_categories_df)\n",
    "\n",
    "cur.close()\n",
    "conn.close()\n"
   ]
  },
  {
   "cell_type": "code",
   "execution_count": 155,
   "id": "e7c2a9e4",
   "metadata": {},
   "outputs": [
    {
     "name": "stdout",
     "output_type": "stream",
     "text": [
      "sql_categories:\n",
      "          category  total_profit\n",
      "0        Furniture    18463.3316\n",
      "1  Office Supplies   122490.8008\n",
      "2       Technology   145454.9481\n"
     ]
    }
   ],
   "source": [
    "conn = sqlite3.connect(\"shop.db\")\n",
    "cur  = conn.cursor()\n",
    "\n",
    "sql_categories = \"\"\"\n",
    "SELECT\n",
    "  p.category,\n",
    "  SUM(s.profit) AS total_profit\n",
    "FROM sales s\n",
    "JOIN product p ON p.product_id = s.product_id\n",
    "GROUP BY p.category\n",
    "ORDER BY total_profit ASC\n",
    "\"\"\"\n",
    "cur.execute(sql_categories)\n",
    "rows = cur.fetchall()\n",
    "\n",
    "sql_categories_df = pd.DataFrame(rows, columns=[\"category\", \"total_profit\"])\n",
    "print(\"sql_categories:\")\n",
    "print(sql_categories_df)\n",
    "\n",
    "cur.close()\n",
    "conn.close()"
   ]
  },
  {
   "cell_type": "code",
   "execution_count": 156,
   "id": "ee9adcf0",
   "metadata": {},
   "outputs": [
    {
     "name": "stdout",
     "output_type": "stream",
     "text": [
      "Subcategories with losses:\n",
      "          category subcategory  total_profit\n",
      "0        Furniture   Bookcases    -3472.5560\n",
      "1        Furniture      Tables   -17725.4811\n",
      "2  Office Supplies    Supplies    -1189.0995\n"
     ]
    }
   ],
   "source": [
    "conn = sqlite3.connect(\"shop.db\")\n",
    "cur  = conn.cursor()\n",
    "\n",
    "sql_loss_subcategories = \"\"\"\n",
    "SELECT p.category,\n",
    "       p.subcategory,\n",
    "       SUM(s.profit) AS total_profit\n",
    "FROM sales s\n",
    "JOIN product p\n",
    "  ON p.product_id = s.product_id\n",
    "GROUP BY p.category, p.subcategory\n",
    "HAVING total_profit < 0;\n",
    "\"\"\"\n",
    "\n",
    "cur.execute(sql_loss_subcategories)\n",
    "rows = cur.fetchall()\n",
    "loss_subcategories_df = pd.DataFrame(rows, columns=[\"category\", \"subcategory\", \"total_profit\"])\n",
    "print(\"Subcategories with losses:\")\n",
    "print(loss_subcategories_df)\n",
    "\n",
    "cur.close()\n",
    "conn.close()\n"
   ]
  },
  {
   "cell_type": "markdown",
   "id": "a0c87610",
   "metadata": {},
   "source": [
    "What are 5 states generating the maximum and minimum sales revenue?"
   ]
  },
  {
   "cell_type": "code",
   "execution_count": 157,
   "id": "3888d8e7",
   "metadata": {},
   "outputs": [
    {
     "name": "stdout",
     "output_type": "stream",
     "text": [
      "Top 5 states by sales:\n",
      "                   state  total_sales  total_profit\n",
      "0                Alabama   34962.6730     2927.6245\n",
      "1                Arizona   35300.5720     4000.0920\n",
      "2               Arkansas   33633.9020     7289.2856\n",
      "3             California  315605.6832    47000.7112\n",
      "4               Colorado   62030.0688     5787.5189\n",
      "5            Connecticut   27629.7640     3129.1247\n",
      "6               Delaware    9103.5400     1924.4805\n",
      "7   District of Columbia   11820.1200     2163.4269\n",
      "8                Florida  125937.8810     9172.0281\n",
      "9                Georgia   35888.2100     9869.6400\n",
      "10                 Idaho   33885.0630     6553.7600\n",
      "11              Illinois  113503.2325    12612.3119\n",
      "12               Indiana   31751.7365     4595.3327\n",
      "13                  Iowa   33254.8492     4518.0907\n",
      "14                Kansas   13572.8930     2457.2164\n",
      "15              Kentucky   26215.3370     3143.2827\n",
      "16             Louisiana   15935.2060     4053.5223\n",
      "17                 Maine   15516.8560     3801.8496\n",
      "18              Maryland   16263.7270      475.4937\n",
      "19         Massachusetts   50810.9720     9268.7481\n",
      "20              Michigan   63825.6574     6137.0305\n",
      "21             Minnesota   38759.0630     5925.9876\n",
      "22           Mississippi   14562.4190    -1387.7385\n",
      "23              Missouri   19287.8640     4138.9540\n",
      "24               Montana   10409.0840     2759.7714\n",
      "25              Nebraska    7174.8480     1565.5789\n",
      "26                Nevada   17559.3870     1290.4799\n",
      "27         New Hampshire    9370.6640     -636.9892\n",
      "28            New Jersey   48633.7490     7117.7779\n",
      "29            New Mexico   24323.3630     4316.6317\n",
      "30              New York   75061.0430    18516.2771\n",
      "31        North Carolina   68292.5085    -2833.8119\n",
      "32          North Dakota    2461.4040      580.3075\n",
      "33                  Ohio   78327.8850     7064.6194\n",
      "34              Oklahoma   15201.8060     2585.8513\n",
      "35                Oregon   37768.2965     3754.4818\n",
      "36          Pennsylvania   33962.3230     4933.7035\n",
      "37          Rhode Island   14852.1800     4744.0206\n",
      "38        South Carolina   24556.7750     6682.7138\n",
      "39          South Dakota    9303.1948     2417.6522\n",
      "40             Tennessee   37460.7296     4559.8626\n",
      "41                 Texas  158574.0370     9970.5265\n",
      "42                  Utah   40432.5262     5112.6370\n",
      "43               Vermont    6108.3380     1203.6768\n",
      "44              Virginia   51284.4595     9004.5983\n",
      "45            Washington   56400.1192     2931.1087\n",
      "46         West Virginia    3082.6530       96.2702\n",
      "47             Wisconsin   42002.9850     8348.5954\n",
      "48               Wyoming    2453.2840      280.7822\n"
     ]
    }
   ],
   "source": [
    "conn = sqlite3.connect(\"shop.db\")\n",
    "\n",
    "sql_top5_states = \"\"\"\n",
    "SELECT \n",
    "    a.state,\n",
    "    SUM(s.sales_amount) AS total_sales,\n",
    "    SUM(s.profit)       AS total_profit\n",
    "FROM sales   s\n",
    "JOIN orders  o ON o.order_id   = s.order_id\n",
    "JOIN address a ON a.customer_id = o.customer_id\n",
    "GROUP BY a.state\n",
    "\"\"\"\n",
    "\n",
    "top5_states_df = pd.read_sql_query(sql_top5_states, conn)\n",
    "print(\"Top 5 states by sales:\")\n",
    "print(top5_states_df)\n",
    "\n",
    "conn.close()\n"
   ]
  },
  {
   "cell_type": "code",
   "execution_count": 73,
   "id": "aa60e19f",
   "metadata": {},
   "outputs": [
    {
     "name": "stdout",
     "output_type": "stream",
     "text": [
      "  table_name     n\n",
      "0      sales  9993\n",
      "1     orders     0\n",
      "2    address   632\n",
      "   sales_x_orders\n",
      "0               0\n",
      "   orders_x_address\n",
      "0                 0\n",
      "   orders_without_address\n",
      "0                       0\n"
     ]
    },
    {
     "ename": "DatabaseError",
     "evalue": "Execution failed on sql '\n    SELECT\n      a.state,\n      SUM(s.sales)  AS total_sales,\n      SUM(s.profit) AS total_profit\n    FROM address a\n    JOIN orders  o ON o.customer_id = a.customer_id\n    JOIN sales   s ON s.order_id    = o.order_id\n    WHERE a.state IS NOT NULL AND a.state <> ''\n    GROUP BY a.state\n    ORDER BY total_sales DESC\n    LIMIT 5;\n    ': no such column: s.sales",
     "output_type": "error",
     "traceback": [
      "\u001b[31m---------------------------------------------------------------------------\u001b[39m",
      "\u001b[31mOperationalError\u001b[39m                          Traceback (most recent call last)",
      "\u001b[36mFile \u001b[39m\u001b[32m/opt/anaconda3/envs/CodeAcademy/lib/python3.12/site-packages/pandas/io/sql.py:2664\u001b[39m, in \u001b[36mSQLiteDatabase.execute\u001b[39m\u001b[34m(self, sql, params)\u001b[39m\n\u001b[32m   2663\u001b[39m \u001b[38;5;28;01mtry\u001b[39;00m:\n\u001b[32m-> \u001b[39m\u001b[32m2664\u001b[39m     \u001b[43mcur\u001b[49m\u001b[43m.\u001b[49m\u001b[43mexecute\u001b[49m\u001b[43m(\u001b[49m\u001b[43msql\u001b[49m\u001b[43m,\u001b[49m\u001b[43m \u001b[49m\u001b[43m*\u001b[49m\u001b[43margs\u001b[49m\u001b[43m)\u001b[49m\n\u001b[32m   2665\u001b[39m     \u001b[38;5;28;01mreturn\u001b[39;00m cur\n",
      "\u001b[31mOperationalError\u001b[39m: no such column: s.sales",
      "\nThe above exception was the direct cause of the following exception:\n",
      "\u001b[31mDatabaseError\u001b[39m                             Traceback (most recent call last)",
      "\u001b[36mCell\u001b[39m\u001b[36m \u001b[39m\u001b[32mIn[73]\u001b[39m\u001b[32m, line 42\u001b[39m\n\u001b[32m     28\u001b[39m \u001b[38;5;66;03m# 3) Top 5 states by sales\u001b[39;00m\n\u001b[32m     29\u001b[39m q_top5 = \u001b[33m\"\"\"\u001b[39m\n\u001b[32m     30\u001b[39m \u001b[33mSELECT\u001b[39m\n\u001b[32m     31\u001b[39m \u001b[33m  a.state,\u001b[39m\n\u001b[32m   (...)\u001b[39m\u001b[32m     40\u001b[39m \u001b[33mLIMIT 5;\u001b[39m\n\u001b[32m     41\u001b[39m \u001b[33m\u001b[39m\u001b[33m\"\"\"\u001b[39m\n\u001b[32m---> \u001b[39m\u001b[32m42\u001b[39m \u001b[38;5;28mprint\u001b[39m(\u001b[43mpd\u001b[49m\u001b[43m.\u001b[49m\u001b[43mread_sql_query\u001b[49m\u001b[43m(\u001b[49m\u001b[43mq_top5\u001b[49m\u001b[43m,\u001b[49m\u001b[43m \u001b[49m\u001b[43mconn\u001b[49m\u001b[43m)\u001b[49m)\n\u001b[32m     44\u001b[39m \u001b[38;5;66;03m# Bottom 5 states by sales (optional)\u001b[39;00m\n\u001b[32m     45\u001b[39m q_bottom5 = \u001b[33m\"\"\"\u001b[39m\n\u001b[32m     46\u001b[39m \u001b[33mSELECT\u001b[39m\n\u001b[32m     47\u001b[39m \u001b[33m  a.state,\u001b[39m\n\u001b[32m   (...)\u001b[39m\u001b[32m     57\u001b[39m \u001b[33mLIMIT 5;\u001b[39m\n\u001b[32m     58\u001b[39m \u001b[33m\u001b[39m\u001b[33m\"\"\"\u001b[39m\n",
      "\u001b[36mFile \u001b[39m\u001b[32m/opt/anaconda3/envs/CodeAcademy/lib/python3.12/site-packages/pandas/io/sql.py:528\u001b[39m, in \u001b[36mread_sql_query\u001b[39m\u001b[34m(sql, con, index_col, coerce_float, params, parse_dates, chunksize, dtype, dtype_backend)\u001b[39m\n\u001b[32m    525\u001b[39m \u001b[38;5;28;01massert\u001b[39;00m dtype_backend \u001b[38;5;129;01mis\u001b[39;00m \u001b[38;5;129;01mnot\u001b[39;00m lib.no_default\n\u001b[32m    527\u001b[39m \u001b[38;5;28;01mwith\u001b[39;00m pandasSQL_builder(con) \u001b[38;5;28;01mas\u001b[39;00m pandas_sql:\n\u001b[32m--> \u001b[39m\u001b[32m528\u001b[39m     \u001b[38;5;28;01mreturn\u001b[39;00m \u001b[43mpandas_sql\u001b[49m\u001b[43m.\u001b[49m\u001b[43mread_query\u001b[49m\u001b[43m(\u001b[49m\n\u001b[32m    529\u001b[39m \u001b[43m        \u001b[49m\u001b[43msql\u001b[49m\u001b[43m,\u001b[49m\n\u001b[32m    530\u001b[39m \u001b[43m        \u001b[49m\u001b[43mindex_col\u001b[49m\u001b[43m=\u001b[49m\u001b[43mindex_col\u001b[49m\u001b[43m,\u001b[49m\n\u001b[32m    531\u001b[39m \u001b[43m        \u001b[49m\u001b[43mparams\u001b[49m\u001b[43m=\u001b[49m\u001b[43mparams\u001b[49m\u001b[43m,\u001b[49m\n\u001b[32m    532\u001b[39m \u001b[43m        \u001b[49m\u001b[43mcoerce_float\u001b[49m\u001b[43m=\u001b[49m\u001b[43mcoerce_float\u001b[49m\u001b[43m,\u001b[49m\n\u001b[32m    533\u001b[39m \u001b[43m        \u001b[49m\u001b[43mparse_dates\u001b[49m\u001b[43m=\u001b[49m\u001b[43mparse_dates\u001b[49m\u001b[43m,\u001b[49m\n\u001b[32m    534\u001b[39m \u001b[43m        \u001b[49m\u001b[43mchunksize\u001b[49m\u001b[43m=\u001b[49m\u001b[43mchunksize\u001b[49m\u001b[43m,\u001b[49m\n\u001b[32m    535\u001b[39m \u001b[43m        \u001b[49m\u001b[43mdtype\u001b[49m\u001b[43m=\u001b[49m\u001b[43mdtype\u001b[49m\u001b[43m,\u001b[49m\n\u001b[32m    536\u001b[39m \u001b[43m        \u001b[49m\u001b[43mdtype_backend\u001b[49m\u001b[43m=\u001b[49m\u001b[43mdtype_backend\u001b[49m\u001b[43m,\u001b[49m\n\u001b[32m    537\u001b[39m \u001b[43m    \u001b[49m\u001b[43m)\u001b[49m\n",
      "\u001b[36mFile \u001b[39m\u001b[32m/opt/anaconda3/envs/CodeAcademy/lib/python3.12/site-packages/pandas/io/sql.py:2728\u001b[39m, in \u001b[36mSQLiteDatabase.read_query\u001b[39m\u001b[34m(self, sql, index_col, coerce_float, parse_dates, params, chunksize, dtype, dtype_backend)\u001b[39m\n\u001b[32m   2717\u001b[39m \u001b[38;5;28;01mdef\u001b[39;00m\u001b[38;5;250m \u001b[39m\u001b[34mread_query\u001b[39m(\n\u001b[32m   2718\u001b[39m     \u001b[38;5;28mself\u001b[39m,\n\u001b[32m   2719\u001b[39m     sql,\n\u001b[32m   (...)\u001b[39m\u001b[32m   2726\u001b[39m     dtype_backend: DtypeBackend | Literal[\u001b[33m\"\u001b[39m\u001b[33mnumpy\u001b[39m\u001b[33m\"\u001b[39m] = \u001b[33m\"\u001b[39m\u001b[33mnumpy\u001b[39m\u001b[33m\"\u001b[39m,\n\u001b[32m   2727\u001b[39m ) -> DataFrame | Iterator[DataFrame]:\n\u001b[32m-> \u001b[39m\u001b[32m2728\u001b[39m     cursor = \u001b[38;5;28;43mself\u001b[39;49m\u001b[43m.\u001b[49m\u001b[43mexecute\u001b[49m\u001b[43m(\u001b[49m\u001b[43msql\u001b[49m\u001b[43m,\u001b[49m\u001b[43m \u001b[49m\u001b[43mparams\u001b[49m\u001b[43m)\u001b[49m\n\u001b[32m   2729\u001b[39m     columns = [col_desc[\u001b[32m0\u001b[39m] \u001b[38;5;28;01mfor\u001b[39;00m col_desc \u001b[38;5;129;01min\u001b[39;00m cursor.description]\n\u001b[32m   2731\u001b[39m     \u001b[38;5;28;01mif\u001b[39;00m chunksize \u001b[38;5;129;01mis\u001b[39;00m \u001b[38;5;129;01mnot\u001b[39;00m \u001b[38;5;28;01mNone\u001b[39;00m:\n",
      "\u001b[36mFile \u001b[39m\u001b[32m/opt/anaconda3/envs/CodeAcademy/lib/python3.12/site-packages/pandas/io/sql.py:2676\u001b[39m, in \u001b[36mSQLiteDatabase.execute\u001b[39m\u001b[34m(self, sql, params)\u001b[39m\n\u001b[32m   2673\u001b[39m     \u001b[38;5;28;01mraise\u001b[39;00m ex \u001b[38;5;28;01mfrom\u001b[39;00m\u001b[38;5;250m \u001b[39m\u001b[34;01minner_exc\u001b[39;00m\n\u001b[32m   2675\u001b[39m ex = DatabaseError(\u001b[33mf\u001b[39m\u001b[33m\"\u001b[39m\u001b[33mExecution failed on sql \u001b[39m\u001b[33m'\u001b[39m\u001b[38;5;132;01m{\u001b[39;00msql\u001b[38;5;132;01m}\u001b[39;00m\u001b[33m'\u001b[39m\u001b[33m: \u001b[39m\u001b[38;5;132;01m{\u001b[39;00mexc\u001b[38;5;132;01m}\u001b[39;00m\u001b[33m\"\u001b[39m)\n\u001b[32m-> \u001b[39m\u001b[32m2676\u001b[39m \u001b[38;5;28;01mraise\u001b[39;00m ex \u001b[38;5;28;01mfrom\u001b[39;00m\u001b[38;5;250m \u001b[39m\u001b[34;01mexc\u001b[39;00m\n",
      "\u001b[31mDatabaseError\u001b[39m: Execution failed on sql '\n    SELECT\n      a.state,\n      SUM(s.sales)  AS total_sales,\n      SUM(s.profit) AS total_profit\n    FROM address a\n    JOIN orders  o ON o.customer_id = a.customer_id\n    JOIN sales   s ON s.order_id    = o.order_id\n    WHERE a.state IS NOT NULL AND a.state <> ''\n    GROUP BY a.state\n    ORDER BY total_sales DESC\n    LIMIT 5;\n    ': no such column: s.sales"
     ]
    }
   ],
   "source": [
    "import sqlite3\n",
    "import pandas as pd\n",
    "\n",
    "with sqlite3.connect(\"shop.db\") as conn:\n",
    "    # 1) Are the tables populated?\n",
    "    q_counts = \"\"\"\n",
    "    SELECT 'sales'   AS table_name, COUNT(*) AS n FROM sales\n",
    "    UNION ALL\n",
    "    SELECT 'orders', COUNT(*) FROM orders\n",
    "    UNION ALL\n",
    "    SELECT 'address', COUNT(*) FROM address;\n",
    "    \"\"\"\n",
    "    print(pd.read_sql_query(q_counts, conn))\n",
    "\n",
    "    # 2) Do the join keys match?\n",
    "    q_join1 = \"SELECT COUNT(*) AS sales_x_orders FROM sales s JOIN orders o ON o.order_id = s.order_id;\"\n",
    "    q_join2 = \"SELECT COUNT(*) AS orders_x_address FROM orders o JOIN address a ON a.customer_id = o.customer_id;\"\n",
    "    q_missing_addr = \"\"\"\n",
    "    SELECT COUNT(*) AS orders_without_address\n",
    "    FROM orders o\n",
    "    LEFT JOIN address a ON a.customer_id = o.customer_id\n",
    "    WHERE a.customer_id IS NULL;\n",
    "    \"\"\"\n",
    "    print(pd.read_sql_query(q_join1, conn))\n",
    "    print(pd.read_sql_query(q_join2, conn))\n",
    "    print(pd.read_sql_query(q_missing_addr, conn))\n",
    "\n",
    "    # 3) Top 5 states by sales\n",
    "    q_top5 = \"\"\"\n",
    "    SELECT\n",
    "      a.state,\n",
    "      SUM(s.sales)  AS total_sales,\n",
    "      SUM(s.profit) AS total_profit\n",
    "    FROM address a\n",
    "    JOIN orders  o ON o.customer_id = a.customer_id\n",
    "    JOIN sales   s ON s.order_id    = o.order_id\n",
    "    WHERE a.state IS NOT NULL AND a.state <> ''\n",
    "    GROUP BY a.state\n",
    "    ORDER BY total_sales DESC\n",
    "    LIMIT 5;\n",
    "    \"\"\"\n",
    "    print(pd.read_sql_query(q_top5, conn))\n",
    "\n",
    "    # Bottom 5 states by sales (optional)\n",
    "    q_bottom5 = \"\"\"\n",
    "    SELECT\n",
    "      a.state,\n",
    "      SUM(s.sales)  AS total_sales,\n",
    "      SUM(s.profit) AS total_profit\n",
    "    FROM address a\n",
    "    JOIN orders  o ON o.customer_id = a.customer_id\n",
    "    JOIN sales   s ON s.order_id    = o.order_id\n",
    "    WHERE a.state IS NOT NULL AND a.state <> ''\n",
    "    GROUP BY a.state\n",
    "    HAVING total_sales > 0\n",
    "    ORDER BY total_sales ASC\n",
    "    LIMIT 5;\n",
    "    \"\"\"\n",
    "    print(pd.read_sql_query(q_bottom5, conn))\n"
   ]
  },
  {
   "cell_type": "code",
   "execution_count": 24,
   "id": "165809bf",
   "metadata": {},
   "outputs": [
    {
     "ename": "OperationalError",
     "evalue": "no such column: s.sales",
     "output_type": "error",
     "traceback": [
      "\u001b[31m---------------------------------------------------------------------------\u001b[39m",
      "\u001b[31mOperationalError\u001b[39m                          Traceback (most recent call last)",
      "\u001b[36mCell\u001b[39m\u001b[36m \u001b[39m\u001b[32mIn[24]\u001b[39m\u001b[32m, line 16\u001b[39m\n\u001b[32m      4\u001b[39m \u001b[38;5;66;03m# Bottom 5 states by sales (also shows profit)\u001b[39;00m\n\u001b[32m      5\u001b[39m sql_bottom5_states = \u001b[33m\"\"\"\u001b[39m\n\u001b[32m      6\u001b[39m \u001b[33mSELECT a.state,\u001b[39m\n\u001b[32m      7\u001b[39m \u001b[33m       SUM(s.sales)  AS total_sales,\u001b[39m\n\u001b[32m   (...)\u001b[39m\u001b[32m     14\u001b[39m \u001b[33mLIMIT 5;\u001b[39m\n\u001b[32m     15\u001b[39m \u001b[33m\"\"\"\u001b[39m\n\u001b[32m---> \u001b[39m\u001b[32m16\u001b[39m \u001b[43mcur\u001b[49m\u001b[43m.\u001b[49m\u001b[43mexecute\u001b[49m\u001b[43m(\u001b[49m\u001b[43msql_bottom5_states\u001b[49m\u001b[43m)\u001b[49m\n\u001b[32m     17\u001b[39m rows = cur.fetchall()\n\u001b[32m     18\u001b[39m bottom5_states_df = pd.DataFrame(rows, columns=[\u001b[33m\"\u001b[39m\u001b[33mstate\u001b[39m\u001b[33m\"\u001b[39m, \u001b[33m\"\u001b[39m\u001b[33mtotal_sales\u001b[39m\u001b[33m\"\u001b[39m, \u001b[33m\"\u001b[39m\u001b[33mtotal_profit\u001b[39m\u001b[33m\"\u001b[39m])\n",
      "\u001b[31mOperationalError\u001b[39m: no such column: s.sales"
     ]
    }
   ],
   "source": [
    "conn = sqlite3.connect(\"shop.db\")\n",
    "cur  = conn.cursor()\n",
    "\n",
    "# Bottom 5 states by sales (also shows profit)\n",
    "sql_bottom5_states = \"\"\"\n",
    "SELECT a.state,\n",
    "       SUM(s.sales)  AS total_sales,\n",
    "       SUM(s.profit) AS total_profit\n",
    "FROM sales s\n",
    "JOIN address a\n",
    "  ON a.order_id = s.order_id\n",
    "GROUP BY a.state\n",
    "ORDER BY total_sales ASC\n",
    "LIMIT 5;\n",
    "\"\"\"\n",
    "cur.execute(sql_bottom5_states)\n",
    "rows = cur.fetchall()\n",
    "bottom5_states_df = pd.DataFrame(rows, columns=[\"state\", \"total_sales\", \"total_profit\"])\n",
    "print(\"Bottom 5 states by sales:\")\n",
    "print(bottom5_states_df)\n",
    "\n",
    "cur.close()\n",
    "conn.close()"
   ]
  },
  {
   "cell_type": "markdown",
   "id": "d3172f95",
   "metadata": {},
   "source": [
    "# Top 3 products per segment by SALES"
   ]
  },
  {
   "cell_type": "code",
   "execution_count": 252,
   "id": "20fc8361",
   "metadata": {},
   "outputs": [
    {
     "name": "stdout",
     "output_type": "stream",
     "text": [
      "          segment                                        productname  \\\n",
      "372      Consumer              Canon imageCLASS 2200 Advanced Copier   \n",
      "730      Consumer  HP Designjet T520 Inkjet Large Format Printer ...   \n",
      "729      Consumer       HON 5400 Series Task Chairs for Big and Tall   \n",
      "2012    Corporate              Canon imageCLASS 2200 Advanced Copier   \n",
      "1721    Corporate   3D Systems Cube Printer, 2nd Generation, Magenta   \n",
      "2534    Corporate  Martin Yale Chadless Opener Electric Letter Op...   \n",
      "3411  Home Office  Cisco TelePresence System EX90 Videoconferenci...   \n",
      "3387  Home Office              Canon imageCLASS 2200 Advanced Copier   \n",
      "3627  Home Office               Hewlett Packard LaserJet 3310 Copier   \n",
      "\n",
      "      total_sales  \n",
      "372     32899.906  \n",
      "730     18374.895  \n",
      "729     17384.304  \n",
      "2012    17499.950  \n",
      "1721    14299.890  \n",
      "2534     8328.100  \n",
      "3411    22638.480  \n",
      "3387    11199.968  \n",
      "3627     9239.846  \n"
     ]
    }
   ],
   "source": [
    "import sqlite3, pandas as pd\n",
    "\n",
    "conn = sqlite3.connect(\"shop.db\")\n",
    "sql = \"\"\"\n",
    "SELECT\n",
    "  c.segment,\n",
    "  p.productname,\n",
    "  SUM(s.sales)  AS total_sales,\n",
    "  SUM(s.profit) AS total_profit\n",
    "FROM sales s\n",
    "JOIN product  p ON p.order_id = s.order_id AND p.product_id = s.product_id\n",
    "JOIN orders   o ON o.order_id = s.order_id\n",
    "JOIN customer c ON c.customer_id = o.customer_id\n",
    "GROUP BY c.segment, p.productname;\n",
    "\"\"\"\n",
    "df = pd.read_sql_query(sql, conn)\n",
    "conn.close()\n",
    "\n",
    "# Top 3 products per segment by SALES\n",
    "top3 = (\n",
    "    df.sort_values([\"segment\",\"total_sales\"], ascending=[True, False])\n",
    "      .groupby(\"segment\", as_index=False, group_keys=False)\n",
    "      .head(3)\n",
    ")\n",
    "\n",
    "print(top3[[\"segment\",\"productname\",\"total_sales\"]])\n",
    "\n"
   ]
  },
  {
   "cell_type": "markdown",
   "id": "6b478c93",
   "metadata": {},
   "source": [
    "# TOP 3 products per segment"
   ]
  },
  {
   "cell_type": "code",
   "execution_count": 253,
   "id": "aad9971d",
   "metadata": {},
   "outputs": [
    {
     "name": "stdout",
     "output_type": "stream",
     "text": [
      "          segment                             productname  total_qty\n",
      "1373     Consumer                         Staple envelope        104\n",
      "1378     Consumer                                 Staples         97\n",
      "1379     Consumer                 Staples in misc. colors         75\n",
      "2887    Corporate                                 Staples         90\n",
      "2881    Corporate                         Staple envelope         63\n",
      "2119    Corporate                       Easy-staple paper         44\n",
      "3466  Home Office                       Easy-staple paper         46\n",
      "3604  Home Office  Global Stack Chair without Arms, Black         31\n",
      "4234  Home Office                               Xerox 226         31\n"
     ]
    }
   ],
   "source": [
    "conn = sqlite3.connect(\"shop.db\")\n",
    "\n",
    "# 1) Get totals per segment & product (quantity-wise)\n",
    "sql = \"\"\"\n",
    "SELECT\n",
    "  c.segment,\n",
    "  p.productname,\n",
    "  SUM(s.quantity) AS total_qty\n",
    "FROM sales s\n",
    "JOIN product  p ON p.order_id = s.order_id AND p.product_id = s.product_id\n",
    "JOIN orders   o ON o.order_id = s.order_id\n",
    "JOIN customer c ON c.customer_id = o.customer_id\n",
    "GROUP BY c.segment, p.productname;\n",
    "\"\"\"\n",
    "df = pd.read_sql_query(sql, conn)\n",
    "conn.close()\n",
    "\n",
    "# 2) Keep the 3 best-sellers by quantity in each segment\n",
    "top3_qty = (\n",
    "    df.sort_values([\"segment\",\"total_qty\"], ascending=[True, False])\n",
    "      .groupby(\"segment\", as_index=False, group_keys=False)\n",
    "      .head(3)\n",
    ")\n",
    "\n",
    "print(top3_qty)\n"
   ]
  },
  {
   "cell_type": "markdown",
   "id": "6a73002a",
   "metadata": {},
   "source": [
    "# TOP 3 worst products per category"
   ]
  },
  {
   "cell_type": "code",
   "execution_count": 261,
   "id": "212c2368",
   "metadata": {},
   "outputs": [
    {
     "name": "stdout",
     "output_type": "stream",
     "text": [
      "          segment                             productname  total_qty\n",
      "1373     Consumer                         Staple envelope        104\n",
      "1378     Consumer                                 Staples         97\n",
      "1379     Consumer                 Staples in misc. colors         75\n",
      "2887    Corporate                                 Staples         90\n",
      "2881    Corporate                         Staple envelope         63\n",
      "2119    Corporate                       Easy-staple paper         44\n",
      "3466  Home Office                       Easy-staple paper         46\n",
      "3604  Home Office  Global Stack Chair without Arms, Black         31\n",
      "4234  Home Office                               Xerox 226         31\n"
     ]
    }
   ],
   "source": [
    "conn = sqlite3.connect(\"shop.db\")\n",
    "\n",
    "sql = \"\"\"\n",
    "SELECT\n",
    "  c.segment,\n",
    "  p.productname,\n",
    "  SUM(s.quantity) AS total_qty\n",
    "FROM sales s\n",
    "JOIN product  p ON p.order_id = s.order_id AND p.product_id = s.product_id\n",
    "JOIN orders   o ON o.order_id = s.order_id\n",
    "JOIN customer c ON c.customer_id = o.customer_id\n",
    "GROUP BY c.segment, p.productname;\n",
    "\"\"\"\n",
    "df = pd.read_sql_query(sql, conn)\n",
    "conn.close()\n",
    "\n",
    "top3_qty = (\n",
    "    df.sort_values([\"segment\",\"total_qty\"], ascending=[True, False])\n",
    "      .groupby(\"segment\", as_index=False, group_keys=False)\n",
    "      .head(3)\n",
    ")\n",
    "\n",
    "print(top3_qty)\n"
   ]
  }
 ],
 "metadata": {
  "kernelspec": {
   "display_name": "CodeAcademy",
   "language": "python",
   "name": "python3"
  },
  "language_info": {
   "codemirror_mode": {
    "name": "ipython",
    "version": 3
   },
   "file_extension": ".py",
   "mimetype": "text/x-python",
   "name": "python",
   "nbconvert_exporter": "python",
   "pygments_lexer": "ipython3",
   "version": "3.12.11"
  }
 },
 "nbformat": 4,
 "nbformat_minor": 5
}
