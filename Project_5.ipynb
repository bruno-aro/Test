{
 "cells": [
  {
   "cell_type": "code",
   "execution_count": 223,
   "id": "74e9d072",
   "metadata": {},
   "outputs": [
    {
     "data": {
      "text/html": [
       "<div>\n",
       "<style scoped>\n",
       "    .dataframe tbody tr th:only-of-type {\n",
       "        vertical-align: middle;\n",
       "    }\n",
       "\n",
       "    .dataframe tbody tr th {\n",
       "        vertical-align: top;\n",
       "    }\n",
       "\n",
       "    .dataframe thead th {\n",
       "        text-align: right;\n",
       "    }\n",
       "</style>\n",
       "<table border=\"1\" class=\"dataframe\">\n",
       "  <thead>\n",
       "    <tr style=\"text-align: right;\">\n",
       "      <th></th>\n",
       "      <th>Row ID</th>\n",
       "      <th>Order ID</th>\n",
       "      <th>Order Date</th>\n",
       "      <th>Ship Date</th>\n",
       "      <th>Ship Mode</th>\n",
       "      <th>Customer ID</th>\n",
       "      <th>Customer Name</th>\n",
       "      <th>Segment</th>\n",
       "      <th>Country</th>\n",
       "      <th>City</th>\n",
       "      <th>...</th>\n",
       "      <th>Postal Code</th>\n",
       "      <th>Region</th>\n",
       "      <th>Product ID</th>\n",
       "      <th>Category</th>\n",
       "      <th>Sub-Category</th>\n",
       "      <th>Product Name</th>\n",
       "      <th>Sales</th>\n",
       "      <th>Quantity</th>\n",
       "      <th>Discount</th>\n",
       "      <th>Profit</th>\n",
       "    </tr>\n",
       "  </thead>\n",
       "  <tbody>\n",
       "    <tr>\n",
       "      <th>0</th>\n",
       "      <td>1</td>\n",
       "      <td>CA-2016-152156</td>\n",
       "      <td>11/8/2016</td>\n",
       "      <td>11/11/2016</td>\n",
       "      <td>Second Class</td>\n",
       "      <td>CG-12520</td>\n",
       "      <td>Claire Gute</td>\n",
       "      <td>Consumer</td>\n",
       "      <td>United States</td>\n",
       "      <td>Henderson</td>\n",
       "      <td>...</td>\n",
       "      <td>42420</td>\n",
       "      <td>South</td>\n",
       "      <td>FUR-BO-10001798</td>\n",
       "      <td>Furniture</td>\n",
       "      <td>Bookcases</td>\n",
       "      <td>Bush Somerset Collection Bookcase</td>\n",
       "      <td>261.9600</td>\n",
       "      <td>2</td>\n",
       "      <td>0.00</td>\n",
       "      <td>41.9136</td>\n",
       "    </tr>\n",
       "    <tr>\n",
       "      <th>1</th>\n",
       "      <td>2</td>\n",
       "      <td>CA-2016-152156</td>\n",
       "      <td>11/8/2016</td>\n",
       "      <td>11/11/2016</td>\n",
       "      <td>Second Class</td>\n",
       "      <td>CG-12520</td>\n",
       "      <td>Claire Gute</td>\n",
       "      <td>Consumer</td>\n",
       "      <td>United States</td>\n",
       "      <td>Henderson</td>\n",
       "      <td>...</td>\n",
       "      <td>42420</td>\n",
       "      <td>South</td>\n",
       "      <td>FUR-CH-10000454</td>\n",
       "      <td>Furniture</td>\n",
       "      <td>Chairs</td>\n",
       "      <td>Hon Deluxe Fabric Upholstered Stacking Chairs,...</td>\n",
       "      <td>731.9400</td>\n",
       "      <td>3</td>\n",
       "      <td>0.00</td>\n",
       "      <td>219.5820</td>\n",
       "    </tr>\n",
       "    <tr>\n",
       "      <th>2</th>\n",
       "      <td>3</td>\n",
       "      <td>CA-2016-138688</td>\n",
       "      <td>6/12/2016</td>\n",
       "      <td>6/16/2016</td>\n",
       "      <td>Second Class</td>\n",
       "      <td>DV-13045</td>\n",
       "      <td>Darrin Van Huff</td>\n",
       "      <td>Corporate</td>\n",
       "      <td>United States</td>\n",
       "      <td>Los Angeles</td>\n",
       "      <td>...</td>\n",
       "      <td>90036</td>\n",
       "      <td>West</td>\n",
       "      <td>OFF-LA-10000240</td>\n",
       "      <td>Office Supplies</td>\n",
       "      <td>Labels</td>\n",
       "      <td>Self-Adhesive Address Labels for Typewriters b...</td>\n",
       "      <td>14.6200</td>\n",
       "      <td>2</td>\n",
       "      <td>0.00</td>\n",
       "      <td>6.8714</td>\n",
       "    </tr>\n",
       "    <tr>\n",
       "      <th>3</th>\n",
       "      <td>4</td>\n",
       "      <td>US-2015-108966</td>\n",
       "      <td>10/11/2015</td>\n",
       "      <td>10/18/2015</td>\n",
       "      <td>Standard Class</td>\n",
       "      <td>SO-20335</td>\n",
       "      <td>Sean O'Donnell</td>\n",
       "      <td>Consumer</td>\n",
       "      <td>United States</td>\n",
       "      <td>Fort Lauderdale</td>\n",
       "      <td>...</td>\n",
       "      <td>33311</td>\n",
       "      <td>South</td>\n",
       "      <td>FUR-TA-10000577</td>\n",
       "      <td>Furniture</td>\n",
       "      <td>Tables</td>\n",
       "      <td>Bretford CR4500 Series Slim Rectangular Table</td>\n",
       "      <td>957.5775</td>\n",
       "      <td>5</td>\n",
       "      <td>0.45</td>\n",
       "      <td>-383.0310</td>\n",
       "    </tr>\n",
       "    <tr>\n",
       "      <th>4</th>\n",
       "      <td>5</td>\n",
       "      <td>US-2015-108966</td>\n",
       "      <td>10/11/2015</td>\n",
       "      <td>10/18/2015</td>\n",
       "      <td>Standard Class</td>\n",
       "      <td>SO-20335</td>\n",
       "      <td>Sean O'Donnell</td>\n",
       "      <td>Consumer</td>\n",
       "      <td>United States</td>\n",
       "      <td>Fort Lauderdale</td>\n",
       "      <td>...</td>\n",
       "      <td>33311</td>\n",
       "      <td>South</td>\n",
       "      <td>OFF-ST-10000760</td>\n",
       "      <td>Office Supplies</td>\n",
       "      <td>Storage</td>\n",
       "      <td>Eldon Fold 'N Roll Cart System</td>\n",
       "      <td>22.3680</td>\n",
       "      <td>2</td>\n",
       "      <td>0.20</td>\n",
       "      <td>2.5164</td>\n",
       "    </tr>\n",
       "  </tbody>\n",
       "</table>\n",
       "<p>5 rows × 21 columns</p>\n",
       "</div>"
      ],
      "text/plain": [
       "   Row ID        Order ID  Order Date   Ship Date       Ship Mode Customer ID  \\\n",
       "0       1  CA-2016-152156   11/8/2016  11/11/2016    Second Class    CG-12520   \n",
       "1       2  CA-2016-152156   11/8/2016  11/11/2016    Second Class    CG-12520   \n",
       "2       3  CA-2016-138688   6/12/2016   6/16/2016    Second Class    DV-13045   \n",
       "3       4  US-2015-108966  10/11/2015  10/18/2015  Standard Class    SO-20335   \n",
       "4       5  US-2015-108966  10/11/2015  10/18/2015  Standard Class    SO-20335   \n",
       "\n",
       "     Customer Name    Segment        Country             City  ...  \\\n",
       "0      Claire Gute   Consumer  United States        Henderson  ...   \n",
       "1      Claire Gute   Consumer  United States        Henderson  ...   \n",
       "2  Darrin Van Huff  Corporate  United States      Los Angeles  ...   \n",
       "3   Sean O'Donnell   Consumer  United States  Fort Lauderdale  ...   \n",
       "4   Sean O'Donnell   Consumer  United States  Fort Lauderdale  ...   \n",
       "\n",
       "  Postal Code  Region       Product ID         Category Sub-Category  \\\n",
       "0       42420   South  FUR-BO-10001798        Furniture    Bookcases   \n",
       "1       42420   South  FUR-CH-10000454        Furniture       Chairs   \n",
       "2       90036    West  OFF-LA-10000240  Office Supplies       Labels   \n",
       "3       33311   South  FUR-TA-10000577        Furniture       Tables   \n",
       "4       33311   South  OFF-ST-10000760  Office Supplies      Storage   \n",
       "\n",
       "                                        Product Name     Sales  Quantity  \\\n",
       "0                  Bush Somerset Collection Bookcase  261.9600         2   \n",
       "1  Hon Deluxe Fabric Upholstered Stacking Chairs,...  731.9400         3   \n",
       "2  Self-Adhesive Address Labels for Typewriters b...   14.6200         2   \n",
       "3      Bretford CR4500 Series Slim Rectangular Table  957.5775         5   \n",
       "4                     Eldon Fold 'N Roll Cart System   22.3680         2   \n",
       "\n",
       "   Discount    Profit  \n",
       "0      0.00   41.9136  \n",
       "1      0.00  219.5820  \n",
       "2      0.00    6.8714  \n",
       "3      0.45 -383.0310  \n",
       "4      0.20    2.5164  \n",
       "\n",
       "[5 rows x 21 columns]"
      ]
     },
     "execution_count": 223,
     "metadata": {},
     "output_type": "execute_result"
    }
   ],
   "source": [
    "import pandas as pd\n",
    "import sqlite3\n",
    "\n",
    "df = pd.read_csv(\"Sample_Superstore.csv\", encoding=\"latin-1\")\n",
    "\n",
    "# df.info()\n",
    "\n",
    "df.head()\n",
    "\n",
    "# df.shape\n",
    "\n",
    "# df.columns"
   ]
  },
  {
   "cell_type": "code",
   "execution_count": 183,
   "id": "c6ad4a96",
   "metadata": {},
   "outputs": [
    {
     "name": "stdout",
     "output_type": "stream",
     "text": [
      "['Row ID', 'Order ID', 'Order Date', 'Ship Date', 'Ship Mode', 'Customer ID', 'Customer Name', 'Segment', 'Country', 'City', 'State', 'Postal Code', 'Region', 'Product ID', 'Category', 'Sub-Category', 'Product Name', 'Sales', 'Quantity', 'Discount', 'Profit']\n"
     ]
    }
   ],
   "source": [
    "print(df.columns.tolist())\n"
   ]
  },
  {
   "cell_type": "code",
   "execution_count": null,
   "id": "89fe6289",
   "metadata": {},
   "outputs": [
    {
     "data": {
      "text/plain": [
       "9994"
      ]
     },
     "execution_count": 172,
     "metadata": {},
     "output_type": "execute_result"
    }
   ],
   "source": [
    "df = pd.read_csv(\"Sample-Superstore-clean.csv\", encoding=\"latin-1\")\n",
    "\n",
    "# Conectar a SQLite (esto crea el archivo superstore.db si no existe)\n",
    "conn = sqlite3.connect(\"superstore.db\")\n",
    "\n",
    "# Guardar los datos en una tabla llamada \"Superstore\"\n",
    "df.to_sql(\"Superstore\", conn, if_exists=\"replace\", index=False)\n",
    "\n"
   ]
  },
  {
   "cell_type": "markdown",
   "id": "d3800940",
   "metadata": {},
   "source": [
    "# SPRINT 1 (Epic 2 and Epic 3)"
   ]
  },
  {
   "cell_type": "markdown",
   "id": "47693ed7",
   "metadata": {},
   "source": [
    "### Epic 2: Design your first database\n",
    "\n",
    "As a VS Group BI analyst, you've received a CSV document with all the sales data. You can download the file here.\n",
    "\n",
    "Open the file and try to understand how the fields are related. We suggest using Pandas at this stage to inspect and prepare the data into CSV files which will become the database tables. Note that this approach would not be possible with very large datasets. In these cases you would only take a sample of the data to get a feel for the structure and content (e.g. 100K rows).\n",
    "\n",
    "In order to split the file into tables, we need to have a grasp on database design. This article offers handy tips to design your first database: Database design basics. Be aware that database design principles are mastered over years through real-world experience. It is also important to note that this is an iterative process - you are not likely to create the perfect design in your first attempt!\n",
    "\n",
    "Write down your table schemas, remembering to carefully select your primary and, if necessary, foreign keys for each table. You can use a program like DBDiagram.io to help you visualize your tables' shapes and relations.\n",
    "\n",
    "Once you have an initial design for your ERD:\n",
    "\n",
    "Can you explain why dividing the information into several tables is preferable to keeping it in a single table?\n",
    "How would you manage tables with unique rows such as customers, products, etc.?\n",
    "Is there any need to engineer new columns in any of the tables that are not available in the Sample-Superstore.csv (e.g. Supplier price)?\n",
    "Pick your RDBMS\n",
    "\n",
    "You can decide which RDBMS you prefer to use: SQLite, MySQL, or PostgreSQL.\n",
    "\n",
    "SQLite\n",
    "MySQL\n",
    "PostgreSQL\n",
    "There will be differences, but the basic steps remain the same regardless of which RDBMS you use. We will continue to use SQLite for the examples in the LMS.\n",
    "\n",
    "Please use the documentation of the RDBMS or Google for a solution if you choose an alternative to SQLite.\n",
    "\n",
    "You will frequently find yourself in a situation where you're new to a program or performing a task you've never done before. Therefore, it is important to be self-reliant and be able to read the program's documentation or find a solution online. Sometimes, despite following every step as it is written in a well-written tutorial, the code will still not work. In this instance, look through several sources, and perform trial and error until you figure it out.\n",
    "\n",
    "If you are using SQLite, you can start with these two resources:\n",
    "\n",
    "sqlite3 tutorial (official Python documentation)\n",
    "SQLite using Python (Geeks for Geeks)\n",
    "\n",
    "### Epic 3: Loading your database into an RDBMS\n",
    "\n",
    "Once you have decided on the tables and relationships, and which RDBMS you will use, you will need to consider how you will create and populate your database. Task 9 of the previous project had you import a .csv file into an SQLite table using DB Browser, this could be one way you achieve this objective.\n",
    "\n",
    "Another approach would be to use the Python module sqlite3, which comes pre-installed with Python. Give the path to your database file to create a connection (if the database file doesn't exist yet, it will be created automatically). Create a cursor for that connection which can then be used to execute SQL queries. \n",
    "\n",
    "Once your database has been created, you will need to start separating the large .csv into smaller DataFrames. Make sure you're cleaning your data as you go:\n",
    "\n",
    "- check for duplicates\n",
    "- rename columns\n",
    "- format values such as dates\n",
    "- create additional features you may require for your database\n",
    "\n",
    "Once you have a DataFrame that represents the values for a single table, you can think about how you will populate your database.\n",
    "\n",
    "The simplest option is to utilize the .to_sql() DataFrame method from Pandas. There are quite a few arguments to customize the functionality of this method, have a look at the documentation to make sure you are actually achieving the result you intend. \n",
    "\n",
    "Alternatively, you could write the INSERT queries manually, and use execute() or executemany() as demonstrated in the sqlite tutorial linked above. If you follow this path, make sure to read the section in their documentation on using placeholders as a practice against the risk of SQL injection attacks, and that you remember to conn.commit() the changes."
   ]
  },
  {
   "cell_type": "markdown",
   "id": "8b426e61",
   "metadata": {},
   "source": [
    "## Customer"
   ]
  },
  {
   "cell_type": "code",
   "execution_count": 234,
   "id": "face4be8",
   "metadata": {},
   "outputs": [],
   "source": [
    "conn = sqlite3.connect(\"shop.db\")\n",
    "cur = conn.cursor()\n",
    "\n",
    "customer_table = \"\"\"\n",
    "   CREATE TABLE IF NOT EXISTS customer (\n",
    "      customer_id  TEXT PRIMARY KEY,\n",
    "      customername TEXT NOT NULL,\n",
    "      segment      TEXT\n",
    "   )\n",
    "\"\"\"\n",
    "cur.execute(customer_table)\n",
    "\n",
    "cur.close()\n",
    "conn.close()"
   ]
  },
  {
   "cell_type": "code",
   "execution_count": 235,
   "id": "62519284",
   "metadata": {},
   "outputs": [],
   "source": [
    "df = pd.read_csv(\"Sample_Superstore.csv\", encoding=\"latin-1\")\n",
    "\n",
    "customer_table = df[[\"Customer ID\", \"Customer Name\", \"Segment\"]].copy()\n",
    "customer_table.rename(columns={\"Customer ID\": \"customer_id\", \"Customer Name\": \"customername\", \"Segment\": \"segment\"}, inplace=True)\n",
    "customer_table.drop_duplicates(subset=[\"customer_id\"], inplace=True)\n",
    "\n",
    "customer_table.to_csv(\"customer.csv\", index=False)"
   ]
  },
  {
   "cell_type": "code",
   "execution_count": 236,
   "id": "aa26f558",
   "metadata": {},
   "outputs": [],
   "source": [
    "conn = sqlite3.connect(\"shop.db\")\n",
    "\n",
    "customer_table.to_sql(\n",
    "   \"customer\", # the name of the table\n",
    "   con=conn, # the connection variable\n",
    "   index=False, # whether to include the index column\n",
    "   if_exists=\"append\" # define behavior if table already exists\n",
    ")\n",
    "conn.close()"
   ]
  },
  {
   "cell_type": "code",
   "execution_count": 237,
   "id": "7eb2d34d",
   "metadata": {},
   "outputs": [
    {
     "data": {
      "text/plain": [
       "<bound method DataFrame.info of     customer_id       customername      segment\n",
       "0      CG-12520        Claire Gute     Consumer\n",
       "1      DV-13045    Darrin Van Huff    Corporate\n",
       "2      SO-20335     Sean O'Donnell     Consumer\n",
       "3      BH-11710    Brosina Hoffman     Consumer\n",
       "4      AA-10480       Andrew Allen     Consumer\n",
       "..          ...                ...          ...\n",
       "788    CJ-11875       Carl Jackson    Corporate\n",
       "789    RS-19870         Roy Skaria  Home Office\n",
       "790    SC-20845         Sung Chung     Consumer\n",
       "791    RE-19405    Ricardo Emerson     Consumer\n",
       "792    SM-20905  Susan MacKendrick     Consumer\n",
       "\n",
       "[793 rows x 3 columns]>"
      ]
     },
     "execution_count": 237,
     "metadata": {},
     "output_type": "execute_result"
    }
   ],
   "source": [
    "df_customer = pd.read_csv(\"customer.csv\", encoding=\"latin-1\")\n",
    "\n",
    "df_customer.info"
   ]
  },
  {
   "cell_type": "markdown",
   "id": "75ee4684",
   "metadata": {},
   "source": [
    "## Orders"
   ]
  },
  {
   "cell_type": "code",
   "execution_count": 231,
   "id": "fb333a51",
   "metadata": {},
   "outputs": [],
   "source": [
    "conn = sqlite3.connect(\"shop.db\")\n",
    "cur = conn.cursor()\n",
    "\n",
    "cur.execute(\"PRAGMA foreign_keys = ON;\")\n",
    "\n",
    "orders_table = \"\"\"\n",
    "CREATE TABLE IF NOT EXISTS orders (\n",
    "  order_id     TEXT    PRIMARY KEY,\n",
    "  address_id   INTEGER NOT NULL,\n",
    "  customer_id  TEXT    NOT NULL,\n",
    "  order_date   TEXT,\n",
    "  ship_mode    TEXT,\n",
    "  ship_date    TEXT,\n",
    "  FOREIGN KEY (address_id)  REFERENCES address(address_id),\n",
    "  FOREIGN KEY (customer_id) REFERENCES customer(customer_id)\n",
    ");\n",
    "\"\"\"\n",
    "\n",
    "cur.execute(orders_table) \n",
    "conn.commit()\n",
    "cur.close()\n",
    "conn.close()\n"
   ]
  },
  {
   "cell_type": "code",
   "execution_count": 232,
   "id": "929e14ef",
   "metadata": {},
   "outputs": [],
   "source": [
    "df = pd.read_csv(\"Sample_Superstore.csv\", encoding=\"latin-1\")\n",
    "\n",
    "orders_table = df[[\"Order ID\", \"Customer ID\", \"Order Date\", \"Ship Mode\", \"Ship Date\"]].copy()\n",
    "\n",
    "orders_table.drop_duplicates(subset=[\"Order ID\"], inplace=True)\n",
    "\n",
    "orders_table[\"address_id\"] = range(1, len(orders_table) + 1)\n",
    "\n",
    "orders_table.rename(columns={\n",
    "    \"Order ID\": \"order_id\",\n",
    "    \"Customer ID\": \"customer_id\",\n",
    "    \"Order Date\": \"order_date\",\n",
    "    \"Ship Mode\": \"ship_mode\",\n",
    "    \"Ship Date\": \"ship_date\"\n",
    "}, inplace=True)\n",
    "\n",
    "orders_table.to_csv(\"orders.csv\", index=False)\n"
   ]
  },
  {
   "cell_type": "code",
   "execution_count": 233,
   "id": "7c5d584b",
   "metadata": {},
   "outputs": [],
   "source": [
    "# Populate\n",
    "\n",
    "conn = sqlite3.connect(\"shop.db\")\n",
    "\n",
    "orders_table.to_sql(\n",
    "   \"orders\", # the name of the table\n",
    "   con=conn, # the connection variable\n",
    "   index=False, # whether to include the index column\n",
    "   if_exists=\"append\" # define behavior if table already exists\n",
    ")\n",
    "conn.close()"
   ]
  },
  {
   "cell_type": "markdown",
   "id": "a7635576",
   "metadata": {},
   "source": [
    "## Address"
   ]
  },
  {
   "cell_type": "code",
   "execution_count": 238,
   "id": "011c43ee",
   "metadata": {},
   "outputs": [],
   "source": [
    "conn = sqlite3.connect(\"shop.db\")\n",
    "cur = conn.cursor()\n",
    "\n",
    "cur.execute(\"PRAGMA foreign_keys = ON;\")\n",
    "\n",
    "address_table = \"\"\"\n",
    "CREATE TABLE IF NOT EXISTS address (\n",
    "  address_id  INTEGER PRIMARY KEY,\n",
    "  customer_id TEXT NOT NULL,\n",
    "  country     TEXT,\n",
    "  city        TEXT,\n",
    "  postalcode  TEXT,      \n",
    "  region      TEXT,\n",
    "  state       TEXT,\n",
    "  FOREIGN KEY (customer_id) REFERENCES customer(customer_id)\n",
    ");\n",
    "\"\"\"\n",
    "\n",
    "cur.execute(address_table)\n",
    "conn.commit()\n",
    "cur.close()\n",
    "conn.close()\n"
   ]
  },
  {
   "cell_type": "code",
   "execution_count": 239,
   "id": "f67f9704",
   "metadata": {},
   "outputs": [],
   "source": [
    "df = pd.read_csv(\"Sample_Superstore.csv\", encoding=\"latin-1\")\n",
    "\n",
    "df[\"address_id\"] = range(1, len(df) + 1)\n",
    "\n",
    "address_table = df[[\"address_id\", \"Customer ID\", \"Country\", \"City\", \"Postal Code\", \"Region\", \"State\"]].copy()\n",
    "address_table.rename(columns={\"Customer ID\": \"customer_id\", \"Country\": \"country\", \"City\": \"city\", \"Postal Code\": \"postalcode\", \"Region\": \"region\", \"State\": \"state\"}, inplace=True)\n",
    "address_table = address_table.drop_duplicates(\n",
    "    subset=[\"country\", \"city\", \"postalcode\", \"region\", \"state\"]\n",
    ")\n",
    "\n",
    "address_table.to_csv(\"address.csv\", index=False)"
   ]
  },
  {
   "cell_type": "code",
   "execution_count": 240,
   "id": "1064d28f",
   "metadata": {},
   "outputs": [],
   "source": [
    "conn = sqlite3.connect(\"shop.db\")\n",
    "\n",
    "address_table.to_sql(\n",
    "   \"address\", # the name of the table\n",
    "   con=conn, # the connection variable\n",
    "   index=False, # whether to include the index column\n",
    "   if_exists=\"append\" # define behavior if table already exists\n",
    ")\n",
    "conn.close()"
   ]
  },
  {
   "cell_type": "markdown",
   "id": "34fce4b4",
   "metadata": {},
   "source": [
    "## Product"
   ]
  },
  {
   "cell_type": "code",
   "execution_count": 241,
   "id": "3ba5bc25",
   "metadata": {},
   "outputs": [],
   "source": [
    "conn = sqlite3.connect(\"shop.db\")\n",
    "cur = conn.cursor()\n",
    "\n",
    "cur.execute(\"PRAGMA foreign_keys = ON;\")\n",
    "\n",
    "product_table = \"\"\"\n",
    "CREATE TABLE IF NOT EXISTS product (\n",
    "  product_id   TEXT PRIMARY KEY, \n",
    "  productname  TEXT,\n",
    "  category     TEXT,\n",
    "  subcategory  TEXT\n",
    ");\n",
    "\"\"\"\n",
    "cur.execute(product_table)\n",
    "\n",
    "conn.commit()\n",
    "cur.close()\n",
    "conn.close()\n"
   ]
  },
  {
   "cell_type": "code",
   "execution_count": 242,
   "id": "3bc7e8de",
   "metadata": {},
   "outputs": [],
   "source": [
    "df = pd.read_csv(\"Sample_Superstore.csv\", encoding=\"latin-1\")\n",
    "\n",
    "product_table = df[[\"Product ID\", \"Product Name\", \"Category\", \"Sub-Category\"]].copy()\n",
    "product_table.rename(columns={\"Product ID\": \"product_id\", \"Product Name\": \"productname\", \"Category\": \"category\", \"Sub-Category\": \"subcategory\"}, inplace=True)\n",
    "product_table = product_table.drop_duplicates(subset=[\"product_id\"], keep=\"first\")\n",
    "\n",
    "product_table.to_csv(\"product.csv\", index=False)"
   ]
  },
  {
   "cell_type": "code",
   "execution_count": 243,
   "id": "44ed2419",
   "metadata": {},
   "outputs": [],
   "source": [
    "conn = sqlite3.connect(\"shop.db\")\n",
    "\n",
    "product_table.to_sql(\n",
    "   \"product\", # the name of the table\n",
    "   con=conn, # the connection variable\n",
    "   index=False, # whether to include the index column\n",
    "   if_exists=\"append\" # define behavior if table already exists\n",
    ")\n",
    "conn.close()"
   ]
  },
  {
   "cell_type": "markdown",
   "id": "14d0ce5f",
   "metadata": {},
   "source": [
    "## Sales"
   ]
  },
  {
   "cell_type": "code",
   "execution_count": 246,
   "id": "636ff8ed",
   "metadata": {},
   "outputs": [],
   "source": [
    "import sqlite3 \n",
    "\n",
    "conn = sqlite3.connect(\"shop.db\")\n",
    "cur = conn.cursor()\n",
    "\n",
    "sales_table = \"\"\"\n",
    "CREATE TABLE IF NOT EXISTS sales (\n",
    "  sale_id      INTEGER PRIMARY KEY,\n",
    "  order_id     TEXT    NOT NULL,\n",
    "  product_id   TEXT    NOT NULL,\n",
    "  sales_amount REAL,\n",
    "  quantity     INTEGER,\n",
    "  discount     REAL,\n",
    "  profit       REAL,\n",
    "  FOREIGN KEY (order_id)  REFERENCES orders(order_id),\n",
    "  FOREIGN KEY (product_id) REFERENCES product(product_id)\n",
    ");\n",
    "\"\"\"\n",
    "cur.execute(sales_table)\n",
    "conn.commit() \n",
    "cur.close()\n",
    "conn.close()\n",
    "\n"
   ]
  },
  {
   "cell_type": "code",
   "execution_count": 247,
   "id": "67e6df19",
   "metadata": {},
   "outputs": [],
   "source": [
    "df = pd.read_csv(\"Sample_Superstore.csv\", encoding=\"latin-1\")\n",
    "\n",
    "sales_table = df[[\"Order ID\", \"Product ID\", \"Sales\", \"Quantity\", \"Discount\", \"Profit\"]].copy()\n",
    "sales_table.rename(columns={\"Order ID\": \"order_id\", \"Product ID\": \"product_id\", \"Sales\": \"sales_amount\", \"Quantity\": \"quantity\", \"Discount\": \"discount\", \"Profit\": \"profit\"}, inplace=True)\n",
    "sales_table.drop_duplicates(inplace=True)\n",
    "\n",
    "sales_table.to_csv(\"sales.csv\", index=False)"
   ]
  },
  {
   "cell_type": "code",
   "execution_count": 248,
   "id": "0cbdd3d8",
   "metadata": {},
   "outputs": [],
   "source": [
    "conn = sqlite3.connect(\"shop.db\")\n",
    "\n",
    "sales_table.to_sql(\n",
    "   \"sales\", # the name of the table\n",
    "   con=conn, # the connection variable\n",
    "   index=False, # whether to include the index column\n",
    "   if_exists=\"append\" # define behavior if table already exists\n",
    ")\n",
    "conn.close()"
   ]
  },
  {
   "cell_type": "markdown",
   "id": "2aed7f22",
   "metadata": {},
   "source": [
    "# SPRINT 2: Epic 1 - Exploratory Data Analysis"
   ]
  },
  {
   "cell_type": "markdown",
   "id": "6cef393b",
   "metadata": {},
   "source": [
    "There are plenty of insights you can deduce from this dataset. As a starting point, here are some ideas which you could present to the team:\n",
    "\n",
    "- What customer purchasing patterns can you discover? Such as activity on different days of the week, or weekly, monthly, quarterly, yearly, etc.\n",
    "- Are there specific days/months/quarters when the sales have been unusually high/low, and what could be the possible reasons? How about the profit and loss margin?\n",
    "- Which States and which customers made the highest number of orders? Are they the same as the highest spenders?\n",
    "- Can you make a map showing the 5 States generating the most and least sales revenue?\n",
    "- Can we see any patterns in the quarterly revenue behavior?\n",
    "- Can you create a plot showing the growth rate of new customers over the months?\n",
    "- What do you think about the customers? Are they individuals or wholesalers? Why would you say so?\n",
    "- Are there any issues with the dataset?\n",
    "\n"
   ]
  },
  {
   "cell_type": "markdown",
   "id": "c2bac8f1",
   "metadata": {},
   "source": [
    "## Top Categories"
   ]
  },
  {
   "cell_type": "code",
   "execution_count": 250,
   "id": "5c290122",
   "metadata": {},
   "outputs": [
    {
     "name": "stdout",
     "output_type": "stream",
     "text": [
      "          category  total_sales\n",
      "0       Technology  836154.0330\n",
      "1        Furniture  741718.4233\n",
      "2  Office Supplies  719047.0320\n"
     ]
    }
   ],
   "source": [
    "conn = sqlite3.connect(\"shop.db\")\n",
    "cur  = conn.cursor()\n",
    "\n",
    "sql_all_categories = \"\"\"\n",
    "SELECT \n",
    "    p.category,\n",
    "    SUM(s.sales_amount) AS total_sales\n",
    "FROM sales s\n",
    "JOIN product p ON s.product_id = p.product_id\n",
    "GROUP BY p.category\n",
    "ORDER BY total_sales DESC;\n",
    "\"\"\"\n",
    "\n",
    "cur.execute(sql_all_categories)\n",
    "rows = cur.fetchall()\n",
    "\n",
    "# Only two columns here:\n",
    "all_categories_df = pd.DataFrame(rows, columns=[\"category\", \"total_sales\"])\n",
    "print(all_categories_df)\n",
    "\n",
    "cur.close()\n",
    "conn.close()"
   ]
  },
  {
   "cell_type": "code",
   "execution_count": 251,
   "id": "c393a30d",
   "metadata": {},
   "outputs": [
    {
     "name": "stdout",
     "output_type": "stream",
     "text": [
      "Categories with losses:\n",
      "Empty DataFrame\n",
      "Columns: [category, total_profit]\n",
      "Index: []\n"
     ]
    }
   ],
   "source": [
    "conn = sqlite3.connect(\"shop.db\")\n",
    "cur  = conn.cursor()\n",
    "\n",
    "sql_loss_categories = \"\"\"\n",
    "SELECT p.category,\n",
    "       SUM(s.profit) AS total_profit\n",
    "FROM sales s\n",
    "JOIN product p\n",
    "  ON p.product_id = s.product_id\n",
    "GROUP BY p.category\n",
    "HAVING total_profit < 0;\n",
    "\"\"\"\n",
    "\n",
    "cur.execute(sql_loss_categories)\n",
    "rows = cur.fetchall()\n",
    "loss_categories_df = pd.DataFrame(rows, columns=[\"category\", \"total_profit\"])\n",
    "print(\"Categories with losses:\")\n",
    "print(loss_categories_df)\n",
    "\n",
    "cur.close()\n",
    "conn.close()\n"
   ]
  },
  {
   "cell_type": "code",
   "execution_count": 252,
   "id": "e7c2a9e4",
   "metadata": {},
   "outputs": [
    {
     "name": "stdout",
     "output_type": "stream",
     "text": [
      "sql_categories:\n",
      "          category  total_profit\n",
      "0        Furniture    18463.3316\n",
      "1  Office Supplies   122490.8008\n",
      "2       Technology   145454.9481\n"
     ]
    }
   ],
   "source": [
    "conn = sqlite3.connect(\"shop.db\")\n",
    "cur  = conn.cursor()\n",
    "\n",
    "sql_categories = \"\"\"\n",
    "SELECT\n",
    "  p.category,\n",
    "  SUM(s.profit) AS total_profit\n",
    "FROM sales s\n",
    "JOIN product p ON p.product_id = s.product_id\n",
    "GROUP BY p.category\n",
    "ORDER BY total_profit ASC\n",
    "\"\"\"\n",
    "cur.execute(sql_categories)\n",
    "rows = cur.fetchall()\n",
    "\n",
    "sql_categories_df = pd.DataFrame(rows, columns=[\"category\", \"total_profit\"])\n",
    "print(\"sql_categories:\")\n",
    "print(sql_categories_df)\n",
    "\n",
    "cur.close()\n",
    "conn.close()"
   ]
  },
  {
   "cell_type": "code",
   "execution_count": 253,
   "id": "ee9adcf0",
   "metadata": {},
   "outputs": [
    {
     "name": "stdout",
     "output_type": "stream",
     "text": [
      "Subcategories with losses:\n",
      "          category subcategory  total_profit\n",
      "0        Furniture   Bookcases    -3472.5560\n",
      "1        Furniture      Tables   -17725.4811\n",
      "2  Office Supplies    Supplies    -1189.0995\n"
     ]
    }
   ],
   "source": [
    "conn = sqlite3.connect(\"shop.db\")\n",
    "cur  = conn.cursor()\n",
    "\n",
    "sql_loss_subcategories = \"\"\"\n",
    "SELECT p.category,\n",
    "       p.subcategory,\n",
    "       SUM(s.profit) AS total_profit\n",
    "FROM sales s\n",
    "JOIN product p\n",
    "  ON p.product_id = s.product_id\n",
    "GROUP BY p.category, p.subcategory\n",
    "HAVING total_profit < 0;\n",
    "\"\"\"\n",
    "\n",
    "cur.execute(sql_loss_subcategories)\n",
    "rows = cur.fetchall()\n",
    "loss_subcategories_df = pd.DataFrame(rows, columns=[\"category\", \"subcategory\", \"total_profit\"])\n",
    "print(\"Subcategories with losses:\")\n",
    "print(loss_subcategories_df)\n",
    "\n",
    "cur.close()\n",
    "conn.close()\n"
   ]
  },
  {
   "cell_type": "markdown",
   "id": "a0c87610",
   "metadata": {},
   "source": [
    "## 5 states maximum and minimum revenue"
   ]
  },
  {
   "cell_type": "code",
   "execution_count": 254,
   "id": "3888d8e7",
   "metadata": {},
   "outputs": [
    {
     "name": "stdout",
     "output_type": "stream",
     "text": [
      "Top 5 states by sales:\n",
      "        state  total_sales  total_profit\n",
      "0  California  315605.6832    47000.7112\n",
      "1       Texas  158574.0370     9970.5265\n",
      "2     Florida  125937.8810     9172.0281\n",
      "3    Illinois  113503.2325    12612.3119\n",
      "4        Ohio   78327.8850     7064.6194\n"
     ]
    }
   ],
   "source": [
    "conn = sqlite3.connect(\"shop.db\")\n",
    "\n",
    "sql_top5_states = \"\"\"\n",
    "SELECT \n",
    "    a.state,\n",
    "    SUM(s.sales_amount)  AS total_sales,\n",
    "    SUM(s.profit) AS total_profit\n",
    "FROM sales   s\n",
    "JOIN orders  o ON o.order_id   = s.order_id\n",
    "JOIN address a ON a.customer_id = o.customer_id\n",
    "WHERE a.state IS NOT NULL AND a.state <> ''\n",
    "GROUP BY a.state\n",
    "ORDER BY total_sales DESC\n",
    "LIMIT 5;\n",
    "\"\"\"\n",
    "\n",
    "top5_states_df = pd.read_sql_query(sql_top5_states, conn)\n",
    "print(\"Top 5 states by sales:\")\n",
    "print(top5_states_df)\n",
    "\n",
    "conn.close()"
   ]
  },
  {
   "cell_type": "code",
   "execution_count": 255,
   "id": "6a5ee060",
   "metadata": {},
   "outputs": [
    {
     "data": {
      "image/png": "[encoded data removed]",
      "text/plain": [
       "<Figure size 800x500 with 1 Axes>"
      ]
     },
     "metadata": {},
     "output_type": "display_data"
    }
   ],
   "source": [
    "import matplotlib.pyplot as plt\n",
    "\n",
    "plt.figure(figsize=(8,5))\n",
    "plt.bar(top5_states_df[\"state\"], top5_states_df[\"total_sales\"])\n",
    "plt.title(\"Top 5 States by Sales\")\n",
    "plt.xlabel(\"State\")\n",
    "plt.ylabel(\"Total Sales\")\n",
    "plt.xticks(rotation=45)\n",
    "plt.tight_layout()\n",
    "plt.show()"
   ]
  },
  {
   "cell_type": "code",
   "execution_count": 256,
   "id": "165809bf",
   "metadata": {},
   "outputs": [
    {
     "name": "stdout",
     "output_type": "stream",
     "text": [
      "Bottom 5 states by sales:\n",
      "           state  total_sales  total_profit\n",
      "0        Wyoming     2453.284      280.7822\n",
      "1   North Dakota     2461.404      580.3075\n",
      "2  West Virginia     3082.653       96.2702\n",
      "3        Vermont     6108.338     1203.6768\n",
      "4       Nebraska     7174.848     1565.5789\n"
     ]
    }
   ],
   "source": [
    "conn = sqlite3.connect(\"shop.db\")\n",
    "cur  = conn.cursor()\n",
    "\n",
    "# Bottom 5 states by sales (also shows profit)\n",
    "sql_bottom5_states = \"\"\"\n",
    "SELECT a.state,\n",
    "       SUM(s.sales_amount)  AS total_sales,\n",
    "       SUM(s.profit) AS total_profit\n",
    "FROM sales   s\n",
    "JOIN orders  o ON o.order_id   = s.order_id\n",
    "JOIN address a ON a.customer_id = o.customer_id\n",
    "GROUP BY a.state\n",
    "ORDER BY total_sales ASC\n",
    "LIMIT 5;\n",
    "\"\"\"\n",
    "cur.execute(sql_bottom5_states)\n",
    "rows = cur.fetchall()\n",
    "\n",
    "bottom5_states_df = pd.DataFrame(rows, columns=[\"state\", \"total_sales\", \"total_profit\"])\n",
    "print(\"Bottom 5 states by sales:\")\n",
    "print(bottom5_states_df)\n",
    "\n",
    "cur.close()\n",
    "conn.close()"
   ]
  },
  {
   "cell_type": "code",
   "execution_count": 257,
   "id": "307103b9",
   "metadata": {},
   "outputs": [
    {
     "data": {
      "image/png": "[encoded data removed]",
      "text/plain": [
       "<Figure size 800x500 with 1 Axes>"
      ]
     },
     "metadata": {},
     "output_type": "display_data"
    }
   ],
   "source": [
    "import matplotlib.pyplot as plt\n",
    "\n",
    "plt.figure(figsize=(8,5))\n",
    "plt.bar(bottom5_states_df[\"state\"], bottom5_states_df[\"total_sales\"])\n",
    "plt.title(\"Bottom 5 States by Sales\")\n",
    "plt.xlabel(\"State\")\n",
    "plt.ylabel(\"Total Sales\")\n",
    "plt.xticks(rotation=45)\n",
    "plt.tight_layout()\n",
    "plt.show()\n"
   ]
  },
  {
   "cell_type": "code",
   "execution_count": 258,
   "id": "eecc2d5d",
   "metadata": {},
   "outputs": [
    {
     "data": {
      "image/png": "[encoded data removed]",
      "text/plain": [
       "<Figure size 800x500 with 1 Axes>"
      ]
     },
     "metadata": {},
     "output_type": "display_data"
    }
   ],
   "source": [
    "import numpy as np\n",
    "\n",
    "x = np.arange(len(top5_states_df[\"state\"]))\n",
    "width = 0.35\n",
    "\n",
    "fig, ax = plt.subplots(figsize=(8,5))\n",
    "ax.bar(x - width/2, top5_states_df[\"total_sales\"], width, label=\"Sales\", color=\"steelblue\")\n",
    "ax.bar(x + width/2, top5_states_df[\"total_profit\"], width, label=\"Profit\", color=\"orange\")\n",
    "\n",
    "ax.set_title(\"Top 5 States by Sales & Profit\")\n",
    "ax.set_xlabel(\"State\")\n",
    "ax.set_ylabel(\"Amount\")\n",
    "ax.set_xticks(x)\n",
    "ax.set_xticklabels(top5_states_df[\"state\"], rotation=45)\n",
    "ax.legend()\n",
    "\n",
    "plt.tight_layout()\n",
    "plt.show()\n"
   ]
  },
  {
   "cell_type": "markdown",
   "id": "d3172f95",
   "metadata": {},
   "source": [
    "## Top products per segment by SALES"
   ]
  },
  {
   "cell_type": "code",
   "execution_count": 259,
   "id": "20fc8361",
   "metadata": {},
   "outputs": [
    {
     "name": "stdout",
     "output_type": "stream",
     "text": [
      "          segment                                        productname  \\\n",
      "368      Consumer              Canon imageCLASS 2200 Advanced Copier   \n",
      "720      Consumer  HP Designjet T520 Inkjet Large Format Printer ...   \n",
      "719      Consumer       HON 5400 Series Task Chairs for Big and Tall   \n",
      "1980    Corporate              Canon imageCLASS 2200 Advanced Copier   \n",
      "1694    Corporate   3D Systems Cube Printer, 2nd Generation, Magenta   \n",
      "2498    Corporate  Martin Yale Chadless Opener Electric Letter Op...   \n",
      "3364  Home Office  Cisco TelePresence System EX90 Videoconferenci...   \n",
      "3340  Home Office              Canon imageCLASS 2200 Advanced Copier   \n",
      "3574  Home Office               Hewlett Packard LaserJet 3310 Copier   \n",
      "\n",
      "      total_sales  \n",
      "368     32899.906  \n",
      "720     18374.895  \n",
      "719     17384.304  \n",
      "1980    17499.950  \n",
      "1694    14299.890  \n",
      "2498     8328.100  \n",
      "3364    22638.480  \n",
      "3340    11199.968  \n",
      "3574     9239.846  \n"
     ]
    }
   ],
   "source": [
    "conn = sqlite3.connect(\"shop.db\")\n",
    "sql_segment = \"\"\"\n",
    "SELECT\n",
    "  c.segment,\n",
    "  p.productname,\n",
    "  SUM(s.sales_amount)  AS total_sales,\n",
    "  SUM(s.profit)        AS total_profit\n",
    "FROM sales s\n",
    "JOIN product  p ON p.product_id = s.product_id\n",
    "JOIN orders   o ON o.order_id = s.order_id\n",
    "JOIN customer c ON c.customer_id = o.customer_id\n",
    "GROUP BY c.segment, p.productname;\n",
    "\"\"\"\n",
    "df_segment = pd.read_sql_query(sql_segment, conn)\n",
    "conn.close()\n",
    "\n",
    "# Top 3 products per segment by SALES\n",
    "top3 = (\n",
    "    df_segment\n",
    "      .sort_values([\"segment\",\"total_sales\"], ascending=[True, False])\n",
    "      .groupby(\"segment\", as_index=False, group_keys=False)\n",
    "      .head(3)\n",
    ")\n",
    "\n",
    "print(top3[[\"segment\",\"productname\",\"total_sales\"]])\n",
    "\n"
   ]
  },
  {
   "cell_type": "code",
   "execution_count": 260,
   "id": "c80a3591",
   "metadata": {},
   "outputs": [
    {
     "data": {
      "image/png": "[encoded data removed]",
      "text/plain": [
       "<Figure size 2000x600 with 1 Axes>"
      ]
     },
     "metadata": {},
     "output_type": "display_data"
    }
   ],
   "source": [
    "top10 = df_segment.sort_values(\"total_sales\", ascending=False).head(10)\n",
    "\n",
    "plt.figure(figsize=(20,6))\n",
    "plt.barh(top10[\"productname\"], top10[\"total_sales\"])\n",
    "plt.title(\"Top 10 Products by Sales\")\n",
    "plt.xlabel(\"Total Sales\")\n",
    "plt.ylabel(\"Product\")\n",
    "plt.tight_layout()\n",
    "plt.show()\n"
   ]
  },
  {
   "cell_type": "code",
   "execution_count": 218,
   "id": "b5638624",
   "metadata": {},
   "outputs": [
    {
     "name": "stdout",
     "output_type": "stream",
     "text": [
      "   ship_date  Ship_Year  Ship_Month  Ship_Quarter Ship_DayOfWeek  \\\n",
      "0 2016-11-11       2016          11             4         Friday   \n",
      "1 2016-06-16       2016           6             2       Thursday   \n",
      "2 2015-10-18       2015          10             4         Sunday   \n",
      "3 2014-06-14       2014           6             2       Saturday   \n",
      "4 2017-04-20       2017           4             2       Thursday   \n",
      "\n",
      "  Ship_YearMonth  \n",
      "0        2016-11  \n",
      "1        2016-06  \n",
      "2        2015-10  \n",
      "3        2014-06  \n",
      "4        2017-04  \n",
      "   Ship_Year  num_shipments\n",
      "0       2014            944\n",
      "1       2015           1052\n",
      "2       2016           1305\n",
      "3       2017           1688\n",
      "4       2018             20\n"
     ]
    }
   ],
   "source": [
    "import pandas as pd\n",
    "\n",
    "# Load orders only\n",
    "df_orders = pd.read_csv(\"orders.csv\")\n",
    "\n",
    "# Build a FEATURED copy (doesn't touch df or the original df_orders)\n",
    "df_orders_feat = df_orders.copy()\n",
    "\n",
    "# Parse ship_date (your format looks like M/D/YYYY)\n",
    "df_orders_feat[\"ship_date\"] = pd.to_datetime(df_orders_feat[\"ship_date\"], errors=\"coerce\")\n",
    "\n",
    "# Time features from ship_date\n",
    "df_orders_feat[\"Ship_Year\"]      = df_orders_feat[\"ship_date\"].dt.year\n",
    "df_orders_feat[\"Ship_Month\"]     = df_orders_feat[\"ship_date\"].dt.month\n",
    "df_orders_feat[\"Ship_Quarter\"]   = df_orders_feat[\"ship_date\"].dt.quarter\n",
    "df_orders_feat[\"Ship_DayOfWeek\"] = df_orders_feat[\"ship_date\"].dt.day_name()\n",
    "df_orders_feat[\"Ship_YearMonth\"] = df_orders_feat[\"ship_date\"].dt.to_period(\"M\")\n",
    "\n",
    "# Preview\n",
    "print(\n",
    "    df_orders_feat[\n",
    "        [\"ship_date\",\"Ship_Year\",\"Ship_Month\",\"Ship_Quarter\",\"Ship_DayOfWeek\",\"Ship_YearMonth\"]\n",
    "    ].head()\n",
    ")\n",
    "\n",
    "# (Optional) quick aggregates using only orders data (no sales join):\n",
    "# Shipments per year (count of orders shipped each year)\n",
    "shipments_per_year = (\n",
    "    df_orders_feat.groupby(\"Ship_Year\", dropna=True)\n",
    "    .size()\n",
    "    .reset_index(name=\"num_shipments\")\n",
    "    .sort_values(\"Ship_Year\")\n",
    ")\n",
    "print(shipments_per_year)"
   ]
  },
  {
   "cell_type": "markdown",
   "id": "626d668e",
   "metadata": {},
   "source": [
    "## Product shipped per Year"
   ]
  },
  {
   "cell_type": "code",
   "execution_count": 263,
   "id": "d942515c",
   "metadata": {},
   "outputs": [
    {
     "name": "stdout",
     "output_type": "stream",
     "text": [
      "   order_year  total_quantity\n",
      "0        2014            7579\n",
      "1        2015            7979\n",
      "2        2016            9837\n",
      "3        2017           12476\n"
     ]
    }
   ],
   "source": [
    "import sqlite3, pandas as pd\n",
    "\n",
    "conn = sqlite3.connect(\"shop.db\")\n",
    "sql_productyear = \"\"\"\n",
    "SELECT\n",
    "  CAST(SUBSTR(o.order_date, -4) AS INT) AS order_year,\n",
    "  SUM(s.quantity) AS total_quantity\n",
    "FROM sales s\n",
    "JOIN orders o ON o.order_id = s.order_id\n",
    "WHERE o.order_date IS NOT NULL\n",
    "GROUP BY order_year\n",
    "ORDER BY order_year;\n",
    "\"\"\"\n",
    "df_productyear = pd.read_sql_query(sql_productyear, conn)\n",
    "conn.close()\n",
    "print(df_productyear)\n"
   ]
  },
  {
   "cell_type": "code",
   "execution_count": 266,
   "id": "2ad6dae0",
   "metadata": {},
   "outputs": [
    {
     "data": {
      "image/png": "[encoded data removed]",
      "text/plain": [
       "<Figure size 700x400 with 1 Axes>"
      ]
     },
     "metadata": {},
     "output_type": "display_data"
    }
   ],
   "source": [
    "import matplotlib.pyplot as plt\n",
    "from matplotlib.ticker import MaxNLocator   \n",
    "\n",
    "# Make sure the year is numeric and sorted\n",
    "df_productyear[\"order_year\"] = pd.to_numeric(df_productyear[\"order_year\"], errors=\"coerce\")\n",
    "df_productyear = df_productyear.dropna(subset=[\"order_year\"]).sort_values(\"order_year\")\n",
    "\n",
    "# ---------- Option A: Line chart ----------\n",
    "fig, ax = plt.subplots(figsize=(7,4))\n",
    "ax.plot(df_productyear[\"order_year\"], df_productyear[\"total_quantity\"], marker=\"o\")\n",
    "ax.set_title(\"Total Quantity Sold by Order Year\")\n",
    "ax.set_xlabel(\"Year\")\n",
    "ax.set_ylabel(\"Total Quantity\")\n",
    "ax.xaxis.set_major_locator(MaxNLocator(integer=True))\n",
    "plt.tight_layout()\n",
    "plt.show()"
   ]
  },
  {
   "cell_type": "markdown",
   "id": "4dd39bc1",
   "metadata": {},
   "source": [
    "## Sales per Year"
   ]
  },
  {
   "cell_type": "code",
   "execution_count": 214,
   "id": "63cd2522",
   "metadata": {},
   "outputs": [
    {
     "name": "stdout",
     "output_type": "stream",
     "text": [
      "   ship_year  total_sales_amount\n",
      "0       2014         470101.8211\n",
      "1       2015         479442.5020\n",
      "2       2016         611325.7530\n",
      "3       2017         730889.7154\n",
      "4       2018           5159.6968\n"
     ]
    }
   ],
   "source": [
    "import sqlite3, pandas as pd\n",
    "\n",
    "conn = sqlite3.connect(\"shop.db\")\n",
    "sql_salesyear = \"\"\"\n",
    "SELECT\n",
    "  CAST(SUBSTR(o.ship_date, -4) AS INT) AS ship_year,\n",
    "  SUM(s.sales_amount) AS total_sales_amount\n",
    "FROM sales s\n",
    "JOIN orders o ON o.order_id = s.order_id\n",
    "WHERE o.ship_date IS NOT NULL\n",
    "GROUP BY ship_year\n",
    "ORDER BY ship_year;\n",
    "\"\"\"\n",
    "df_salesyear = pd.read_sql_query(sql_salesyear, conn)\n",
    "conn.close()\n",
    "print(df_salesyear)"
   ]
  },
  {
   "cell_type": "code",
   "execution_count": 224,
   "id": "bfbcdd28",
   "metadata": {},
   "outputs": [
    {
     "name": "stdout",
     "output_type": "stream",
     "text": [
      "<class 'pandas.core.frame.DataFrame'>\n",
      "RangeIndex: 9994 entries, 0 to 9993\n",
      "Data columns (total 21 columns):\n",
      " #   Column         Non-Null Count  Dtype  \n",
      "---  ------         --------------  -----  \n",
      " 0   Row ID         9994 non-null   int64  \n",
      " 1   Order ID       9994 non-null   object \n",
      " 2   Order Date     9994 non-null   object \n",
      " 3   Ship Date      9994 non-null   object \n",
      " 4   Ship Mode      9994 non-null   object \n",
      " 5   Customer ID    9994 non-null   object \n",
      " 6   Customer Name  9994 non-null   object \n",
      " 7   Segment        9994 non-null   object \n",
      " 8   Country        9994 non-null   object \n",
      " 9   City           9994 non-null   object \n",
      " 10  State          9994 non-null   object \n",
      " 11  Postal Code    9994 non-null   int64  \n",
      " 12  Region         9994 non-null   object \n",
      " 13  Product ID     9994 non-null   object \n",
      " 14  Category       9994 non-null   object \n",
      " 15  Sub-Category   9994 non-null   object \n",
      " 16  Product Name   9994 non-null   object \n",
      " 17  Sales          9994 non-null   float64\n",
      " 18  Quantity       9994 non-null   int64  \n",
      " 19  Discount       9994 non-null   float64\n",
      " 20  Profit         9994 non-null   float64\n",
      "dtypes: float64(3), int64(3), object(15)\n",
      "memory usage: 1.6+ MB\n"
     ]
    }
   ],
   "source": [
    "df.info()"
   ]
  }
 ],
 "metadata": {
  "kernelspec": {
   "display_name": "CodeAcademy",
   "language": "python",
   "name": "python3"
  },
  "language_info": {
   "codemirror_mode": {
    "name": "ipython",
    "version": 3
   },
   "file_extension": ".py",
   "mimetype": "text/x-python",
   "name": "python",
   "nbconvert_exporter": "python",
   "pygments_lexer": "ipython3",
   "version": "3.12.11"
  }
 },
 "nbformat": 4,
 "nbformat_minor": 5
}
